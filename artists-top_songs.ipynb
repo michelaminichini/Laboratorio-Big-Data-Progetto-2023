{
 "cells": [
  {
   "cell_type": "code",
   "execution_count": 2,
   "metadata": {},
   "outputs": [],
   "source": [
    "import pandas as pd\n",
    "import numpy as np\n",
    "import seaborn as sns\n",
    "import matplotlib.pyplot as plt"
   ]
  },
  {
   "cell_type": "code",
   "execution_count": 3,
   "metadata": {},
   "outputs": [],
   "source": [
    "# importiamo il primo file csv\n",
    "artisti = pd.read_csv('Artists.csv', sep=',')"
   ]
  },
  {
   "cell_type": "code",
   "execution_count": 4,
   "metadata": {},
   "outputs": [
    {
     "data": {
      "text/html": [
       "<div>\n",
       "<style scoped>\n",
       "    .dataframe tbody tr th:only-of-type {\n",
       "        vertical-align: middle;\n",
       "    }\n",
       "\n",
       "    .dataframe tbody tr th {\n",
       "        vertical-align: top;\n",
       "    }\n",
       "\n",
       "    .dataframe thead th {\n",
       "        text-align: right;\n",
       "    }\n",
       "</style>\n",
       "<table border=\"1\" class=\"dataframe\">\n",
       "  <thead>\n",
       "    <tr style=\"text-align: right;\">\n",
       "      <th></th>\n",
       "      <th>Name</th>\n",
       "      <th>ID</th>\n",
       "      <th>Gender</th>\n",
       "      <th>Age</th>\n",
       "      <th>Country</th>\n",
       "      <th>Genres</th>\n",
       "      <th>Popularity</th>\n",
       "      <th>Followers</th>\n",
       "      <th>URI</th>\n",
       "    </tr>\n",
       "  </thead>\n",
       "  <tbody>\n",
       "    <tr>\n",
       "      <th>0</th>\n",
       "      <td>Drake</td>\n",
       "      <td>3TVXtAsR1Inumwj472S9r4</td>\n",
       "      <td>male</td>\n",
       "      <td>33</td>\n",
       "      <td>CA</td>\n",
       "      <td>['canadian hip hop', 'canadian pop', 'hip hop'...</td>\n",
       "      <td>95</td>\n",
       "      <td>83298497</td>\n",
       "      <td>spotify:artist:3TVXtAsR1Inumwj472S9r4</td>\n",
       "    </tr>\n",
       "    <tr>\n",
       "      <th>1</th>\n",
       "      <td>Post Malone</td>\n",
       "      <td>246dkjvS1zLTtiykXe5h60</td>\n",
       "      <td>male</td>\n",
       "      <td>25</td>\n",
       "      <td>US</td>\n",
       "      <td>['dfw rap', 'melodic rap', 'pop', 'rap']</td>\n",
       "      <td>86</td>\n",
       "      <td>43130108</td>\n",
       "      <td>spotify:artist:246dkjvS1zLTtiykXe5h60</td>\n",
       "    </tr>\n",
       "    <tr>\n",
       "      <th>2</th>\n",
       "      <td>Ed Sheeran</td>\n",
       "      <td>6eUKZXaKkcviH0Ku9w2n3V</td>\n",
       "      <td>male</td>\n",
       "      <td>29</td>\n",
       "      <td>GB</td>\n",
       "      <td>['pop', 'singer-songwriter pop', 'uk pop']</td>\n",
       "      <td>87</td>\n",
       "      <td>115998928</td>\n",
       "      <td>spotify:artist:6eUKZXaKkcviH0Ku9w2n3V</td>\n",
       "    </tr>\n",
       "    <tr>\n",
       "      <th>3</th>\n",
       "      <td>J Balvin</td>\n",
       "      <td>1vyhD5VmyZ7KMfW5gqLgo5</td>\n",
       "      <td>male</td>\n",
       "      <td>35</td>\n",
       "      <td>CO</td>\n",
       "      <td>['reggaeton', 'reggaeton colombiano', 'trap la...</td>\n",
       "      <td>83</td>\n",
       "      <td>38028010</td>\n",
       "      <td>spotify:artist:1vyhD5VmyZ7KMfW5gqLgo5</td>\n",
       "    </tr>\n",
       "    <tr>\n",
       "      <th>4</th>\n",
       "      <td>Bad Bunny</td>\n",
       "      <td>4q3ewBCX7sLwd24euuV69X</td>\n",
       "      <td>male</td>\n",
       "      <td>26</td>\n",
       "      <td>PR</td>\n",
       "      <td>['reggaeton', 'trap latino', 'urbano latino']</td>\n",
       "      <td>95</td>\n",
       "      <td>77931484</td>\n",
       "      <td>spotify:artist:4q3ewBCX7sLwd24euuV69X</td>\n",
       "    </tr>\n",
       "  </tbody>\n",
       "</table>\n",
       "</div>"
      ],
      "text/plain": [
       "          Name                      ID Gender  Age Country  \\\n",
       "0        Drake  3TVXtAsR1Inumwj472S9r4   male   33      CA   \n",
       "1  Post Malone  246dkjvS1zLTtiykXe5h60   male   25      US   \n",
       "2   Ed Sheeran  6eUKZXaKkcviH0Ku9w2n3V   male   29      GB   \n",
       "3     J Balvin  1vyhD5VmyZ7KMfW5gqLgo5   male   35      CO   \n",
       "4    Bad Bunny  4q3ewBCX7sLwd24euuV69X   male   26      PR   \n",
       "\n",
       "                                              Genres  Popularity  Followers  \\\n",
       "0  ['canadian hip hop', 'canadian pop', 'hip hop'...          95   83298497   \n",
       "1           ['dfw rap', 'melodic rap', 'pop', 'rap']          86   43130108   \n",
       "2         ['pop', 'singer-songwriter pop', 'uk pop']          87  115998928   \n",
       "3  ['reggaeton', 'reggaeton colombiano', 'trap la...          83   38028010   \n",
       "4      ['reggaeton', 'trap latino', 'urbano latino']          95   77931484   \n",
       "\n",
       "                                     URI  \n",
       "0  spotify:artist:3TVXtAsR1Inumwj472S9r4  \n",
       "1  spotify:artist:246dkjvS1zLTtiykXe5h60  \n",
       "2  spotify:artist:6eUKZXaKkcviH0Ku9w2n3V  \n",
       "3  spotify:artist:1vyhD5VmyZ7KMfW5gqLgo5  \n",
       "4  spotify:artist:4q3ewBCX7sLwd24euuV69X  "
      ]
     },
     "execution_count": 4,
     "metadata": {},
     "output_type": "execute_result"
    }
   ],
   "source": [
    "artisti.head()"
   ]
  },
  {
   "cell_type": "code",
   "execution_count": 4,
   "metadata": {},
   "outputs": [
    {
     "name": "stdout",
     "output_type": "stream",
     "text": [
      "<class 'pandas.core.frame.DataFrame'>\n",
      "RangeIndex: 9488 entries, 0 to 9487\n",
      "Data columns (total 9 columns):\n",
      " #   Column      Non-Null Count  Dtype \n",
      "---  ------      --------------  ----- \n",
      " 0   Name        9488 non-null   object\n",
      " 1   ID          9488 non-null   object\n",
      " 2   Gender      7829 non-null   object\n",
      " 3   Age         9488 non-null   int64 \n",
      " 4   Country     6305 non-null   object\n",
      " 5   Genres      9488 non-null   object\n",
      " 6   Popularity  9488 non-null   int64 \n",
      " 7   Followers   9488 non-null   int64 \n",
      " 8   URI         9488 non-null   object\n",
      "dtypes: int64(3), object(6)\n",
      "memory usage: 667.3+ KB\n"
     ]
    }
   ],
   "source": [
    "artisti.info()"
   ]
  },
  {
   "cell_type": "code",
   "execution_count": 4,
   "metadata": {},
   "outputs": [],
   "source": [
    "# importiamo il secondo file csv\n",
    "top_songs = pd.read_csv('Top_Songs_US.csv', sep=',')"
   ]
  },
  {
   "cell_type": "code",
   "execution_count": 6,
   "metadata": {},
   "outputs": [
    {
     "data": {
      "text/html": [
       "<div>\n",
       "<style scoped>\n",
       "    .dataframe tbody tr th:only-of-type {\n",
       "        vertical-align: middle;\n",
       "    }\n",
       "\n",
       "    .dataframe tbody tr th {\n",
       "        vertical-align: top;\n",
       "    }\n",
       "\n",
       "    .dataframe thead th {\n",
       "        text-align: right;\n",
       "    }\n",
       "</style>\n",
       "<table border=\"1\" class=\"dataframe\">\n",
       "  <thead>\n",
       "    <tr style=\"text-align: right;\">\n",
       "      <th></th>\n",
       "      <th>Album Type</th>\n",
       "      <th>Artist ID</th>\n",
       "      <th>Artist Name</th>\n",
       "      <th>Artist Song Rank</th>\n",
       "      <th>Track Name</th>\n",
       "      <th>Is Playable</th>\n",
       "      <th>Album Name</th>\n",
       "      <th>Release Date</th>\n",
       "      <th>Total Album Tracks</th>\n",
       "      <th>Is Explicit</th>\n",
       "      <th>ISRC</th>\n",
       "      <th>Song Duration</th>\n",
       "      <th>Track Number</th>\n",
       "      <th>Popularity</th>\n",
       "      <th>Track Id</th>\n",
       "      <th>Track URI</th>\n",
       "    </tr>\n",
       "  </thead>\n",
       "  <tbody>\n",
       "    <tr>\n",
       "      <th>0</th>\n",
       "      <td>album</td>\n",
       "      <td>3TVXtAsR1Inumwj472S9r4</td>\n",
       "      <td>Drake</td>\n",
       "      <td>1</td>\n",
       "      <td>IDGAF (feat. Yeat)</td>\n",
       "      <td>True</td>\n",
       "      <td>For All The Dogs</td>\n",
       "      <td>2023-10-06</td>\n",
       "      <td>23</td>\n",
       "      <td>True</td>\n",
       "      <td>USUG12306072</td>\n",
       "      <td>260111</td>\n",
       "      <td>7</td>\n",
       "      <td>93</td>\n",
       "      <td>2YSzYUF3jWqb9YP9VXmpjE</td>\n",
       "      <td>spotify:track:2YSzYUF3jWqb9YP9VXmpjE</td>\n",
       "    </tr>\n",
       "    <tr>\n",
       "      <th>1</th>\n",
       "      <td>album</td>\n",
       "      <td>3TVXtAsR1Inumwj472S9r4</td>\n",
       "      <td>Drake</td>\n",
       "      <td>2</td>\n",
       "      <td>First Person Shooter (feat. J. Cole)</td>\n",
       "      <td>True</td>\n",
       "      <td>For All The Dogs</td>\n",
       "      <td>2023-10-06</td>\n",
       "      <td>23</td>\n",
       "      <td>True</td>\n",
       "      <td>USUG12306071</td>\n",
       "      <td>247444</td>\n",
       "      <td>6</td>\n",
       "      <td>91</td>\n",
       "      <td>7aqfrAY2p9BUSiupwk3svU</td>\n",
       "      <td>spotify:track:7aqfrAY2p9BUSiupwk3svU</td>\n",
       "    </tr>\n",
       "    <tr>\n",
       "      <th>2</th>\n",
       "      <td>album</td>\n",
       "      <td>3TVXtAsR1Inumwj472S9r4</td>\n",
       "      <td>Drake</td>\n",
       "      <td>3</td>\n",
       "      <td>Rich Baby Daddy (feat. Sexyy Red &amp; SZA)</td>\n",
       "      <td>True</td>\n",
       "      <td>For All The Dogs</td>\n",
       "      <td>2023-10-06</td>\n",
       "      <td>23</td>\n",
       "      <td>True</td>\n",
       "      <td>USUG12306085</td>\n",
       "      <td>319191</td>\n",
       "      <td>20</td>\n",
       "      <td>89</td>\n",
       "      <td>1yeB8MUNeLo9Ek1UEpsyz6</td>\n",
       "      <td>spotify:track:1yeB8MUNeLo9Ek1UEpsyz6</td>\n",
       "    </tr>\n",
       "    <tr>\n",
       "      <th>3</th>\n",
       "      <td>album</td>\n",
       "      <td>3TVXtAsR1Inumwj472S9r4</td>\n",
       "      <td>Drake</td>\n",
       "      <td>4</td>\n",
       "      <td>Jimmy Cooks (feat. 21 Savage)</td>\n",
       "      <td>True</td>\n",
       "      <td>Honestly, Nevermind</td>\n",
       "      <td>2022-06-17</td>\n",
       "      <td>14</td>\n",
       "      <td>True</td>\n",
       "      <td>USUG12204897</td>\n",
       "      <td>218364</td>\n",
       "      <td>14</td>\n",
       "      <td>89</td>\n",
       "      <td>3F5CgOj3wFlRv51JsHbxhe</td>\n",
       "      <td>spotify:track:3F5CgOj3wFlRv51JsHbxhe</td>\n",
       "    </tr>\n",
       "    <tr>\n",
       "      <th>4</th>\n",
       "      <td>album</td>\n",
       "      <td>3TVXtAsR1Inumwj472S9r4</td>\n",
       "      <td>Drake</td>\n",
       "      <td>5</td>\n",
       "      <td>One Dance</td>\n",
       "      <td>True</td>\n",
       "      <td>Views</td>\n",
       "      <td>2016-05-06</td>\n",
       "      <td>20</td>\n",
       "      <td>False</td>\n",
       "      <td>USCM51600028</td>\n",
       "      <td>173986</td>\n",
       "      <td>12</td>\n",
       "      <td>89</td>\n",
       "      <td>1zi7xx7UVEFkmKfv06H8x0</td>\n",
       "      <td>spotify:track:1zi7xx7UVEFkmKfv06H8x0</td>\n",
       "    </tr>\n",
       "    <tr>\n",
       "      <th>5</th>\n",
       "      <td>album</td>\n",
       "      <td>3TVXtAsR1Inumwj472S9r4</td>\n",
       "      <td>Drake</td>\n",
       "      <td>6</td>\n",
       "      <td>MELTDOWN (feat. Drake)</td>\n",
       "      <td>True</td>\n",
       "      <td>UTOPIA</td>\n",
       "      <td>2023-07-28</td>\n",
       "      <td>19</td>\n",
       "      <td>True</td>\n",
       "      <td>USSM12305021</td>\n",
       "      <td>246133</td>\n",
       "      <td>7</td>\n",
       "      <td>88</td>\n",
       "      <td>67nepsnrcZkowTxMWigSbb</td>\n",
       "      <td>spotify:track:67nepsnrcZkowTxMWigSbb</td>\n",
       "    </tr>\n",
       "    <tr>\n",
       "      <th>6</th>\n",
       "      <td>album</td>\n",
       "      <td>3TVXtAsR1Inumwj472S9r4</td>\n",
       "      <td>Drake</td>\n",
       "      <td>7</td>\n",
       "      <td>Virginia Beach</td>\n",
       "      <td>True</td>\n",
       "      <td>For All The Dogs</td>\n",
       "      <td>2023-10-06</td>\n",
       "      <td>23</td>\n",
       "      <td>True</td>\n",
       "      <td>USUG12306066</td>\n",
       "      <td>251094</td>\n",
       "      <td>1</td>\n",
       "      <td>85</td>\n",
       "      <td>3eP13S8D5m2cweMEg3ZDed</td>\n",
       "      <td>spotify:track:3eP13S8D5m2cweMEg3ZDed</td>\n",
       "    </tr>\n",
       "    <tr>\n",
       "      <th>7</th>\n",
       "      <td>album</td>\n",
       "      <td>3TVXtAsR1Inumwj472S9r4</td>\n",
       "      <td>Drake</td>\n",
       "      <td>8</td>\n",
       "      <td>Rich Flex</td>\n",
       "      <td>True</td>\n",
       "      <td>Her Loss</td>\n",
       "      <td>2022-11-04</td>\n",
       "      <td>16</td>\n",
       "      <td>True</td>\n",
       "      <td>USUG12208598</td>\n",
       "      <td>239359</td>\n",
       "      <td>1</td>\n",
       "      <td>87</td>\n",
       "      <td>1bDbXMyjaUIooNwFE9wn0N</td>\n",
       "      <td>spotify:track:1bDbXMyjaUIooNwFE9wn0N</td>\n",
       "    </tr>\n",
       "    <tr>\n",
       "      <th>8</th>\n",
       "      <td>album</td>\n",
       "      <td>3TVXtAsR1Inumwj472S9r4</td>\n",
       "      <td>Drake</td>\n",
       "      <td>9</td>\n",
       "      <td>Slime You Out (feat. SZA)</td>\n",
       "      <td>True</td>\n",
       "      <td>For All The Dogs</td>\n",
       "      <td>2023-10-06</td>\n",
       "      <td>23</td>\n",
       "      <td>True</td>\n",
       "      <td>USUG12306064</td>\n",
       "      <td>310490</td>\n",
       "      <td>9</td>\n",
       "      <td>80</td>\n",
       "      <td>0AYt6NMyyLd0rLuvr0UkMH</td>\n",
       "      <td>spotify:track:0AYt6NMyyLd0rLuvr0UkMH</td>\n",
       "    </tr>\n",
       "    <tr>\n",
       "      <th>9</th>\n",
       "      <td>album</td>\n",
       "      <td>3TVXtAsR1Inumwj472S9r4</td>\n",
       "      <td>Drake</td>\n",
       "      <td>10</td>\n",
       "      <td>God's Plan</td>\n",
       "      <td>True</td>\n",
       "      <td>Scorpion</td>\n",
       "      <td>2018-06-29</td>\n",
       "      <td>25</td>\n",
       "      <td>True</td>\n",
       "      <td>USCM51800004</td>\n",
       "      <td>198973</td>\n",
       "      <td>5</td>\n",
       "      <td>86</td>\n",
       "      <td>6DCZcSspjsKoFjzjrWoCdn</td>\n",
       "      <td>spotify:track:6DCZcSspjsKoFjzjrWoCdn</td>\n",
       "    </tr>\n",
       "    <tr>\n",
       "      <th>10</th>\n",
       "      <td>album</td>\n",
       "      <td>246dkjvS1zLTtiykXe5h60</td>\n",
       "      <td>Post Malone</td>\n",
       "      <td>1</td>\n",
       "      <td>Sunflower - Spider-Man: Into the Spider-Verse</td>\n",
       "      <td>True</td>\n",
       "      <td>Hollywood's Bleeding</td>\n",
       "      <td>2019-09-06</td>\n",
       "      <td>17</td>\n",
       "      <td>False</td>\n",
       "      <td>USUM71814888</td>\n",
       "      <td>157560</td>\n",
       "      <td>12</td>\n",
       "      <td>87</td>\n",
       "      <td>0RiRZpuVRbi7oqRdSMwhQY</td>\n",
       "      <td>spotify:track:0RiRZpuVRbi7oqRdSMwhQY</td>\n",
       "    </tr>\n",
       "    <tr>\n",
       "      <th>11</th>\n",
       "      <td>single</td>\n",
       "      <td>246dkjvS1zLTtiykXe5h60</td>\n",
       "      <td>Post Malone</td>\n",
       "      <td>2</td>\n",
       "      <td>Chemical</td>\n",
       "      <td>True</td>\n",
       "      <td>Chemical</td>\n",
       "      <td>2023-04-14</td>\n",
       "      <td>1</td>\n",
       "      <td>True</td>\n",
       "      <td>USUM72305205</td>\n",
       "      <td>184013</td>\n",
       "      <td>1</td>\n",
       "      <td>87</td>\n",
       "      <td>5w40ZYhbBMAlHYNDaVJIUu</td>\n",
       "      <td>spotify:track:5w40ZYhbBMAlHYNDaVJIUu</td>\n",
       "    </tr>\n",
       "    <tr>\n",
       "      <th>12</th>\n",
       "      <td>album</td>\n",
       "      <td>246dkjvS1zLTtiykXe5h60</td>\n",
       "      <td>Post Malone</td>\n",
       "      <td>3</td>\n",
       "      <td>Circles</td>\n",
       "      <td>True</td>\n",
       "      <td>Hollywood's Bleeding</td>\n",
       "      <td>2019-09-06</td>\n",
       "      <td>17</td>\n",
       "      <td>False</td>\n",
       "      <td>USUM71915699</td>\n",
       "      <td>215280</td>\n",
       "      <td>6</td>\n",
       "      <td>89</td>\n",
       "      <td>21jGcNKet2qwijlDFuPiPb</td>\n",
       "      <td>spotify:track:21jGcNKet2qwijlDFuPiPb</td>\n",
       "    </tr>\n",
       "    <tr>\n",
       "      <th>13</th>\n",
       "      <td>album</td>\n",
       "      <td>246dkjvS1zLTtiykXe5h60</td>\n",
       "      <td>Post Malone</td>\n",
       "      <td>4</td>\n",
       "      <td>I Like You (A Happier Song) (with Doja Cat)</td>\n",
       "      <td>True</td>\n",
       "      <td>Twelve Carat Toothache</td>\n",
       "      <td>2022-06-03</td>\n",
       "      <td>14</td>\n",
       "      <td>True</td>\n",
       "      <td>USUM72208023</td>\n",
       "      <td>192840</td>\n",
       "      <td>5</td>\n",
       "      <td>86</td>\n",
       "      <td>0O6u0VJ46W86TxN9wgyqDj</td>\n",
       "      <td>spotify:track:0O6u0VJ46W86TxN9wgyqDj</td>\n",
       "    </tr>\n",
       "    <tr>\n",
       "      <th>14</th>\n",
       "      <td>single</td>\n",
       "      <td>246dkjvS1zLTtiykXe5h60</td>\n",
       "      <td>Post Malone</td>\n",
       "      <td>5</td>\n",
       "      <td>Dial Drunk (with Post Malone)</td>\n",
       "      <td>True</td>\n",
       "      <td>Dial Drunk (with Post Malone)</td>\n",
       "      <td>2023-07-18</td>\n",
       "      <td>1</td>\n",
       "      <td>True</td>\n",
       "      <td>USUM72308676</td>\n",
       "      <td>213817</td>\n",
       "      <td>1</td>\n",
       "      <td>86</td>\n",
       "      <td>22VHOlVYBqytsrAqV8yXBK</td>\n",
       "      <td>spotify:track:22VHOlVYBqytsrAqV8yXBK</td>\n",
       "    </tr>\n",
       "    <tr>\n",
       "      <th>15</th>\n",
       "      <td>album</td>\n",
       "      <td>246dkjvS1zLTtiykXe5h60</td>\n",
       "      <td>Post Malone</td>\n",
       "      <td>6</td>\n",
       "      <td>rockstar (feat. 21 Savage)</td>\n",
       "      <td>True</td>\n",
       "      <td>beerbongs &amp; bentleys</td>\n",
       "      <td>2018-04-27</td>\n",
       "      <td>18</td>\n",
       "      <td>True</td>\n",
       "      <td>USUM71710087</td>\n",
       "      <td>218146</td>\n",
       "      <td>6</td>\n",
       "      <td>85</td>\n",
       "      <td>0e7ipj03S05BNilyu5bRzt</td>\n",
       "      <td>spotify:track:0e7ipj03S05BNilyu5bRzt</td>\n",
       "    </tr>\n",
       "    <tr>\n",
       "      <th>16</th>\n",
       "      <td>album</td>\n",
       "      <td>246dkjvS1zLTtiykXe5h60</td>\n",
       "      <td>Post Malone</td>\n",
       "      <td>7</td>\n",
       "      <td>Congratulations</td>\n",
       "      <td>True</td>\n",
       "      <td>Stoney (Deluxe)</td>\n",
       "      <td>2016-12-09</td>\n",
       "      <td>18</td>\n",
       "      <td>True</td>\n",
       "      <td>USUM71614484</td>\n",
       "      <td>220293</td>\n",
       "      <td>12</td>\n",
       "      <td>85</td>\n",
       "      <td>3a1lNhkSLSkpJE4MSHpDu9</td>\n",
       "      <td>spotify:track:3a1lNhkSLSkpJE4MSHpDu9</td>\n",
       "    </tr>\n",
       "    <tr>\n",
       "      <th>17</th>\n",
       "      <td>album</td>\n",
       "      <td>246dkjvS1zLTtiykXe5h60</td>\n",
       "      <td>Post Malone</td>\n",
       "      <td>8</td>\n",
       "      <td>Wow.</td>\n",
       "      <td>True</td>\n",
       "      <td>Hollywood's Bleeding</td>\n",
       "      <td>2019-09-06</td>\n",
       "      <td>17</td>\n",
       "      <td>True</td>\n",
       "      <td>USUM71822626</td>\n",
       "      <td>149546</td>\n",
       "      <td>17</td>\n",
       "      <td>84</td>\n",
       "      <td>7xQAfvXzm3AkraOtGPWIZg</td>\n",
       "      <td>spotify:track:7xQAfvXzm3AkraOtGPWIZg</td>\n",
       "    </tr>\n",
       "    <tr>\n",
       "      <th>18</th>\n",
       "      <td>album</td>\n",
       "      <td>246dkjvS1zLTtiykXe5h60</td>\n",
       "      <td>Post Malone</td>\n",
       "      <td>9</td>\n",
       "      <td>Better Now</td>\n",
       "      <td>True</td>\n",
       "      <td>beerbongs &amp; bentleys</td>\n",
       "      <td>2018-04-27</td>\n",
       "      <td>18</td>\n",
       "      <td>True</td>\n",
       "      <td>USUM71805170</td>\n",
       "      <td>231266</td>\n",
       "      <td>9</td>\n",
       "      <td>83</td>\n",
       "      <td>7dt6x5M1jzdTEt8oCbisTK</td>\n",
       "      <td>spotify:track:7dt6x5M1jzdTEt8oCbisTK</td>\n",
       "    </tr>\n",
       "    <tr>\n",
       "      <th>19</th>\n",
       "      <td>album</td>\n",
       "      <td>246dkjvS1zLTtiykXe5h60</td>\n",
       "      <td>Post Malone</td>\n",
       "      <td>10</td>\n",
       "      <td>I Fall Apart</td>\n",
       "      <td>True</td>\n",
       "      <td>Stoney (Deluxe)</td>\n",
       "      <td>2016-12-09</td>\n",
       "      <td>18</td>\n",
       "      <td>True</td>\n",
       "      <td>USUM71614475</td>\n",
       "      <td>223346</td>\n",
       "      <td>7</td>\n",
       "      <td>82</td>\n",
       "      <td>75ZvA4QfFiZvzhj2xkaWAh</td>\n",
       "      <td>spotify:track:75ZvA4QfFiZvzhj2xkaWAh</td>\n",
       "    </tr>\n",
       "  </tbody>\n",
       "</table>\n",
       "</div>"
      ],
      "text/plain": [
       "   Album Type               Artist ID  Artist Name  Artist Song Rank  \\\n",
       "0       album  3TVXtAsR1Inumwj472S9r4        Drake                 1   \n",
       "1       album  3TVXtAsR1Inumwj472S9r4        Drake                 2   \n",
       "2       album  3TVXtAsR1Inumwj472S9r4        Drake                 3   \n",
       "3       album  3TVXtAsR1Inumwj472S9r4        Drake                 4   \n",
       "4       album  3TVXtAsR1Inumwj472S9r4        Drake                 5   \n",
       "5       album  3TVXtAsR1Inumwj472S9r4        Drake                 6   \n",
       "6       album  3TVXtAsR1Inumwj472S9r4        Drake                 7   \n",
       "7       album  3TVXtAsR1Inumwj472S9r4        Drake                 8   \n",
       "8       album  3TVXtAsR1Inumwj472S9r4        Drake                 9   \n",
       "9       album  3TVXtAsR1Inumwj472S9r4        Drake                10   \n",
       "10      album  246dkjvS1zLTtiykXe5h60  Post Malone                 1   \n",
       "11     single  246dkjvS1zLTtiykXe5h60  Post Malone                 2   \n",
       "12      album  246dkjvS1zLTtiykXe5h60  Post Malone                 3   \n",
       "13      album  246dkjvS1zLTtiykXe5h60  Post Malone                 4   \n",
       "14     single  246dkjvS1zLTtiykXe5h60  Post Malone                 5   \n",
       "15      album  246dkjvS1zLTtiykXe5h60  Post Malone                 6   \n",
       "16      album  246dkjvS1zLTtiykXe5h60  Post Malone                 7   \n",
       "17      album  246dkjvS1zLTtiykXe5h60  Post Malone                 8   \n",
       "18      album  246dkjvS1zLTtiykXe5h60  Post Malone                 9   \n",
       "19      album  246dkjvS1zLTtiykXe5h60  Post Malone                10   \n",
       "\n",
       "                                       Track Name  Is Playable  \\\n",
       "0                              IDGAF (feat. Yeat)         True   \n",
       "1            First Person Shooter (feat. J. Cole)         True   \n",
       "2         Rich Baby Daddy (feat. Sexyy Red & SZA)         True   \n",
       "3                   Jimmy Cooks (feat. 21 Savage)         True   \n",
       "4                                       One Dance         True   \n",
       "5                          MELTDOWN (feat. Drake)         True   \n",
       "6                                  Virginia Beach         True   \n",
       "7                                       Rich Flex         True   \n",
       "8                       Slime You Out (feat. SZA)         True   \n",
       "9                                      God's Plan         True   \n",
       "10  Sunflower - Spider-Man: Into the Spider-Verse         True   \n",
       "11                                       Chemical         True   \n",
       "12                                        Circles         True   \n",
       "13    I Like You (A Happier Song) (with Doja Cat)         True   \n",
       "14                  Dial Drunk (with Post Malone)         True   \n",
       "15                     rockstar (feat. 21 Savage)         True   \n",
       "16                                Congratulations         True   \n",
       "17                                           Wow.         True   \n",
       "18                                     Better Now         True   \n",
       "19                                   I Fall Apart         True   \n",
       "\n",
       "                       Album Name Release Date  Total Album Tracks  \\\n",
       "0                For All The Dogs   2023-10-06                  23   \n",
       "1                For All The Dogs   2023-10-06                  23   \n",
       "2                For All The Dogs   2023-10-06                  23   \n",
       "3             Honestly, Nevermind   2022-06-17                  14   \n",
       "4                           Views   2016-05-06                  20   \n",
       "5                          UTOPIA   2023-07-28                  19   \n",
       "6                For All The Dogs   2023-10-06                  23   \n",
       "7                        Her Loss   2022-11-04                  16   \n",
       "8                For All The Dogs   2023-10-06                  23   \n",
       "9                        Scorpion   2018-06-29                  25   \n",
       "10           Hollywood's Bleeding   2019-09-06                  17   \n",
       "11                       Chemical   2023-04-14                   1   \n",
       "12           Hollywood's Bleeding   2019-09-06                  17   \n",
       "13         Twelve Carat Toothache   2022-06-03                  14   \n",
       "14  Dial Drunk (with Post Malone)   2023-07-18                   1   \n",
       "15           beerbongs & bentleys   2018-04-27                  18   \n",
       "16                Stoney (Deluxe)   2016-12-09                  18   \n",
       "17           Hollywood's Bleeding   2019-09-06                  17   \n",
       "18           beerbongs & bentleys   2018-04-27                  18   \n",
       "19                Stoney (Deluxe)   2016-12-09                  18   \n",
       "\n",
       "    Is Explicit          ISRC  Song Duration  Track Number  Popularity  \\\n",
       "0          True  USUG12306072         260111             7          93   \n",
       "1          True  USUG12306071         247444             6          91   \n",
       "2          True  USUG12306085         319191            20          89   \n",
       "3          True  USUG12204897         218364            14          89   \n",
       "4         False  USCM51600028         173986            12          89   \n",
       "5          True  USSM12305021         246133             7          88   \n",
       "6          True  USUG12306066         251094             1          85   \n",
       "7          True  USUG12208598         239359             1          87   \n",
       "8          True  USUG12306064         310490             9          80   \n",
       "9          True  USCM51800004         198973             5          86   \n",
       "10        False  USUM71814888         157560            12          87   \n",
       "11         True  USUM72305205         184013             1          87   \n",
       "12        False  USUM71915699         215280             6          89   \n",
       "13         True  USUM72208023         192840             5          86   \n",
       "14         True  USUM72308676         213817             1          86   \n",
       "15         True  USUM71710087         218146             6          85   \n",
       "16         True  USUM71614484         220293            12          85   \n",
       "17         True  USUM71822626         149546            17          84   \n",
       "18         True  USUM71805170         231266             9          83   \n",
       "19         True  USUM71614475         223346             7          82   \n",
       "\n",
       "                  Track Id                             Track URI  \n",
       "0   2YSzYUF3jWqb9YP9VXmpjE  spotify:track:2YSzYUF3jWqb9YP9VXmpjE  \n",
       "1   7aqfrAY2p9BUSiupwk3svU  spotify:track:7aqfrAY2p9BUSiupwk3svU  \n",
       "2   1yeB8MUNeLo9Ek1UEpsyz6  spotify:track:1yeB8MUNeLo9Ek1UEpsyz6  \n",
       "3   3F5CgOj3wFlRv51JsHbxhe  spotify:track:3F5CgOj3wFlRv51JsHbxhe  \n",
       "4   1zi7xx7UVEFkmKfv06H8x0  spotify:track:1zi7xx7UVEFkmKfv06H8x0  \n",
       "5   67nepsnrcZkowTxMWigSbb  spotify:track:67nepsnrcZkowTxMWigSbb  \n",
       "6   3eP13S8D5m2cweMEg3ZDed  spotify:track:3eP13S8D5m2cweMEg3ZDed  \n",
       "7   1bDbXMyjaUIooNwFE9wn0N  spotify:track:1bDbXMyjaUIooNwFE9wn0N  \n",
       "8   0AYt6NMyyLd0rLuvr0UkMH  spotify:track:0AYt6NMyyLd0rLuvr0UkMH  \n",
       "9   6DCZcSspjsKoFjzjrWoCdn  spotify:track:6DCZcSspjsKoFjzjrWoCdn  \n",
       "10  0RiRZpuVRbi7oqRdSMwhQY  spotify:track:0RiRZpuVRbi7oqRdSMwhQY  \n",
       "11  5w40ZYhbBMAlHYNDaVJIUu  spotify:track:5w40ZYhbBMAlHYNDaVJIUu  \n",
       "12  21jGcNKet2qwijlDFuPiPb  spotify:track:21jGcNKet2qwijlDFuPiPb  \n",
       "13  0O6u0VJ46W86TxN9wgyqDj  spotify:track:0O6u0VJ46W86TxN9wgyqDj  \n",
       "14  22VHOlVYBqytsrAqV8yXBK  spotify:track:22VHOlVYBqytsrAqV8yXBK  \n",
       "15  0e7ipj03S05BNilyu5bRzt  spotify:track:0e7ipj03S05BNilyu5bRzt  \n",
       "16  3a1lNhkSLSkpJE4MSHpDu9  spotify:track:3a1lNhkSLSkpJE4MSHpDu9  \n",
       "17  7xQAfvXzm3AkraOtGPWIZg  spotify:track:7xQAfvXzm3AkraOtGPWIZg  \n",
       "18  7dt6x5M1jzdTEt8oCbisTK  spotify:track:7dt6x5M1jzdTEt8oCbisTK  \n",
       "19  75ZvA4QfFiZvzhj2xkaWAh  spotify:track:75ZvA4QfFiZvzhj2xkaWAh  "
      ]
     },
     "execution_count": 6,
     "metadata": {},
     "output_type": "execute_result"
    }
   ],
   "source": [
    "top_songs.head(20)"
   ]
  },
  {
   "cell_type": "code",
   "execution_count": 10,
   "metadata": {},
   "outputs": [
    {
     "name": "stdout",
     "output_type": "stream",
     "text": [
      "<class 'pandas.core.frame.DataFrame'>\n",
      "RangeIndex: 37146 entries, 0 to 37145\n",
      "Data columns (total 16 columns):\n",
      " #   Column              Non-Null Count  Dtype \n",
      "---  ------              --------------  ----- \n",
      " 0   Album Type          37146 non-null  object\n",
      " 1   Artist ID           37146 non-null  object\n",
      " 2   Artist Name         37146 non-null  object\n",
      " 3   Artist Song Rank    37146 non-null  int64 \n",
      " 4   Track Name          37146 non-null  object\n",
      " 5   Is Playable         37146 non-null  bool  \n",
      " 6   Album Name          37146 non-null  object\n",
      " 7   Release Date        37146 non-null  object\n",
      " 8   Total Album Tracks  37146 non-null  int64 \n",
      " 9   Is Explicit         37146 non-null  bool  \n",
      " 10  ISRC                37146 non-null  object\n",
      " 11  Song Duration       37146 non-null  int64 \n",
      " 12  Track Number        37146 non-null  int64 \n",
      " 13  Popularity          37146 non-null  int64 \n",
      " 14  Track Id            37146 non-null  object\n",
      " 15  Track URI           37146 non-null  object\n",
      "dtypes: bool(2), int64(5), object(9)\n",
      "memory usage: 4.0+ MB\n"
     ]
    }
   ],
   "source": [
    "top_songs.info()"
   ]
  },
  {
   "cell_type": "code",
   "execution_count": 5,
   "metadata": {},
   "outputs": [],
   "source": [
    "# convertiamo la colonna 'Release Date' in datetime\n",
    "top_songs['Release Date'] = pd.to_datetime(top_songs['Release Date'], utc=True).dt.tz_convert('Europe/Berlin')"
   ]
  },
  {
   "cell_type": "code",
   "execution_count": 8,
   "metadata": {},
   "outputs": [
    {
     "name": "stdout",
     "output_type": "stream",
     "text": [
      "<class 'pandas.core.frame.DataFrame'>\n",
      "RangeIndex: 37146 entries, 0 to 37145\n",
      "Data columns (total 16 columns):\n",
      " #   Column              Non-Null Count  Dtype                        \n",
      "---  ------              --------------  -----                        \n",
      " 0   Album Type          37146 non-null  object                       \n",
      " 1   Artist ID           37146 non-null  object                       \n",
      " 2   Artist Name         37146 non-null  object                       \n",
      " 3   Artist Song Rank    37146 non-null  int64                        \n",
      " 4   Track Name          37146 non-null  object                       \n",
      " 5   Is Playable         37146 non-null  bool                         \n",
      " 6   Album Name          37146 non-null  object                       \n",
      " 7   Release Date        37146 non-null  datetime64[ns, Europe/Berlin]\n",
      " 8   Total Album Tracks  37146 non-null  int64                        \n",
      " 9   Is Explicit         37146 non-null  bool                         \n",
      " 10  ISRC                37146 non-null  object                       \n",
      " 11  Song Duration       37146 non-null  int64                        \n",
      " 12  Track Number        37146 non-null  int64                        \n",
      " 13  Popularity          37146 non-null  int64                        \n",
      " 14  Track Id            37146 non-null  object                       \n",
      " 15  Track URI           37146 non-null  object                       \n",
      "dtypes: bool(2), datetime64[ns, Europe/Berlin](1), int64(5), object(8)\n",
      "memory usage: 4.0+ MB\n"
     ]
    }
   ],
   "source": [
    "top_songs.info()"
   ]
  },
  {
   "cell_type": "code",
   "execution_count": 39,
   "metadata": {},
   "outputs": [
    {
     "data": {
      "text/html": [
       "<div>\n",
       "<style scoped>\n",
       "    .dataframe tbody tr th:only-of-type {\n",
       "        vertical-align: middle;\n",
       "    }\n",
       "\n",
       "    .dataframe tbody tr th {\n",
       "        vertical-align: top;\n",
       "    }\n",
       "\n",
       "    .dataframe thead th {\n",
       "        text-align: right;\n",
       "    }\n",
       "</style>\n",
       "<table border=\"1\" class=\"dataframe\">\n",
       "  <thead>\n",
       "    <tr style=\"text-align: right;\">\n",
       "      <th></th>\n",
       "      <th>Album Type</th>\n",
       "      <th>Artist ID</th>\n",
       "      <th>Artist Name</th>\n",
       "      <th>Artist Song Rank</th>\n",
       "      <th>Track Name</th>\n",
       "      <th>Is Playable</th>\n",
       "      <th>Album Name</th>\n",
       "      <th>Release Date</th>\n",
       "      <th>Total Album Tracks</th>\n",
       "      <th>Is Explicit</th>\n",
       "      <th>ISRC</th>\n",
       "      <th>Song Duration</th>\n",
       "      <th>Track Number</th>\n",
       "      <th>Popularity</th>\n",
       "      <th>Track Id</th>\n",
       "      <th>Track URI</th>\n",
       "    </tr>\n",
       "  </thead>\n",
       "  <tbody>\n",
       "    <tr>\n",
       "      <th>0</th>\n",
       "      <td>album</td>\n",
       "      <td>3TVXtAsR1Inumwj472S9r4</td>\n",
       "      <td>Drake</td>\n",
       "      <td>1</td>\n",
       "      <td>IDGAF (feat. Yeat)</td>\n",
       "      <td>True</td>\n",
       "      <td>For All The Dogs</td>\n",
       "      <td>2023-10-06</td>\n",
       "      <td>23</td>\n",
       "      <td>True</td>\n",
       "      <td>USUG12306072</td>\n",
       "      <td>260111</td>\n",
       "      <td>7</td>\n",
       "      <td>93</td>\n",
       "      <td>2YSzYUF3jWqb9YP9VXmpjE</td>\n",
       "      <td>spotify:track:2YSzYUF3jWqb9YP9VXmpjE</td>\n",
       "    </tr>\n",
       "    <tr>\n",
       "      <th>1</th>\n",
       "      <td>album</td>\n",
       "      <td>3TVXtAsR1Inumwj472S9r4</td>\n",
       "      <td>Drake</td>\n",
       "      <td>2</td>\n",
       "      <td>First Person Shooter (feat. J. Cole)</td>\n",
       "      <td>True</td>\n",
       "      <td>For All The Dogs</td>\n",
       "      <td>2023-10-06</td>\n",
       "      <td>23</td>\n",
       "      <td>True</td>\n",
       "      <td>USUG12306071</td>\n",
       "      <td>247444</td>\n",
       "      <td>6</td>\n",
       "      <td>91</td>\n",
       "      <td>7aqfrAY2p9BUSiupwk3svU</td>\n",
       "      <td>spotify:track:7aqfrAY2p9BUSiupwk3svU</td>\n",
       "    </tr>\n",
       "    <tr>\n",
       "      <th>2</th>\n",
       "      <td>album</td>\n",
       "      <td>3TVXtAsR1Inumwj472S9r4</td>\n",
       "      <td>Drake</td>\n",
       "      <td>3</td>\n",
       "      <td>Rich Baby Daddy (feat. Sexyy Red &amp; SZA)</td>\n",
       "      <td>True</td>\n",
       "      <td>For All The Dogs</td>\n",
       "      <td>2023-10-06</td>\n",
       "      <td>23</td>\n",
       "      <td>True</td>\n",
       "      <td>USUG12306085</td>\n",
       "      <td>319191</td>\n",
       "      <td>20</td>\n",
       "      <td>89</td>\n",
       "      <td>1yeB8MUNeLo9Ek1UEpsyz6</td>\n",
       "      <td>spotify:track:1yeB8MUNeLo9Ek1UEpsyz6</td>\n",
       "    </tr>\n",
       "    <tr>\n",
       "      <th>3</th>\n",
       "      <td>album</td>\n",
       "      <td>3TVXtAsR1Inumwj472S9r4</td>\n",
       "      <td>Drake</td>\n",
       "      <td>4</td>\n",
       "      <td>Jimmy Cooks (feat. 21 Savage)</td>\n",
       "      <td>True</td>\n",
       "      <td>Honestly, Nevermind</td>\n",
       "      <td>2022-06-17</td>\n",
       "      <td>14</td>\n",
       "      <td>True</td>\n",
       "      <td>USUG12204897</td>\n",
       "      <td>218364</td>\n",
       "      <td>14</td>\n",
       "      <td>89</td>\n",
       "      <td>3F5CgOj3wFlRv51JsHbxhe</td>\n",
       "      <td>spotify:track:3F5CgOj3wFlRv51JsHbxhe</td>\n",
       "    </tr>\n",
       "    <tr>\n",
       "      <th>4</th>\n",
       "      <td>album</td>\n",
       "      <td>3TVXtAsR1Inumwj472S9r4</td>\n",
       "      <td>Drake</td>\n",
       "      <td>5</td>\n",
       "      <td>One Dance</td>\n",
       "      <td>True</td>\n",
       "      <td>Views</td>\n",
       "      <td>2016-05-06</td>\n",
       "      <td>20</td>\n",
       "      <td>False</td>\n",
       "      <td>USCM51600028</td>\n",
       "      <td>173986</td>\n",
       "      <td>12</td>\n",
       "      <td>89</td>\n",
       "      <td>1zi7xx7UVEFkmKfv06H8x0</td>\n",
       "      <td>spotify:track:1zi7xx7UVEFkmKfv06H8x0</td>\n",
       "    </tr>\n",
       "  </tbody>\n",
       "</table>\n",
       "</div>"
      ],
      "text/plain": [
       "  Album Type               Artist ID Artist Name  Artist Song Rank  \\\n",
       "0      album  3TVXtAsR1Inumwj472S9r4       Drake                 1   \n",
       "1      album  3TVXtAsR1Inumwj472S9r4       Drake                 2   \n",
       "2      album  3TVXtAsR1Inumwj472S9r4       Drake                 3   \n",
       "3      album  3TVXtAsR1Inumwj472S9r4       Drake                 4   \n",
       "4      album  3TVXtAsR1Inumwj472S9r4       Drake                 5   \n",
       "\n",
       "                                Track Name  Is Playable           Album Name  \\\n",
       "0                       IDGAF (feat. Yeat)         True     For All The Dogs   \n",
       "1     First Person Shooter (feat. J. Cole)         True     For All The Dogs   \n",
       "2  Rich Baby Daddy (feat. Sexyy Red & SZA)         True     For All The Dogs   \n",
       "3            Jimmy Cooks (feat. 21 Savage)         True  Honestly, Nevermind   \n",
       "4                                One Dance         True                Views   \n",
       "\n",
       "  Release Date  Total Album Tracks  Is Explicit          ISRC  Song Duration  \\\n",
       "0   2023-10-06                  23         True  USUG12306072         260111   \n",
       "1   2023-10-06                  23         True  USUG12306071         247444   \n",
       "2   2023-10-06                  23         True  USUG12306085         319191   \n",
       "3   2022-06-17                  14         True  USUG12204897         218364   \n",
       "4   2016-05-06                  20        False  USCM51600028         173986   \n",
       "\n",
       "   Track Number  Popularity                Track Id  \\\n",
       "0             7          93  2YSzYUF3jWqb9YP9VXmpjE   \n",
       "1             6          91  7aqfrAY2p9BUSiupwk3svU   \n",
       "2            20          89  1yeB8MUNeLo9Ek1UEpsyz6   \n",
       "3            14          89  3F5CgOj3wFlRv51JsHbxhe   \n",
       "4            12          89  1zi7xx7UVEFkmKfv06H8x0   \n",
       "\n",
       "                              Track URI  \n",
       "0  spotify:track:2YSzYUF3jWqb9YP9VXmpjE  \n",
       "1  spotify:track:7aqfrAY2p9BUSiupwk3svU  \n",
       "2  spotify:track:1yeB8MUNeLo9Ek1UEpsyz6  \n",
       "3  spotify:track:3F5CgOj3wFlRv51JsHbxhe  \n",
       "4  spotify:track:1zi7xx7UVEFkmKfv06H8x0  "
      ]
     },
     "execution_count": 39,
     "metadata": {},
     "output_type": "execute_result"
    }
   ],
   "source": [
    "top_songs.head(5) # osserviamo come è cambiata la colonna 'Release Date'"
   ]
  },
  {
   "cell_type": "markdown",
   "metadata": {},
   "source": [
    "Analizziamo"
   ]
  },
  {
   "cell_type": "markdown",
   "metadata": {},
   "source": [
    "Quale è il genere più ascoltato?"
   ]
  },
  {
   "cell_type": "code",
   "execution_count": 6,
   "metadata": {},
   "outputs": [],
   "source": [
    "# Facciamo il merge dei due file tramite l'ID dell'artista\n",
    "merged_df = pd.merge(artisti, top_songs, left_on='ID', right_on='Artist ID')"
   ]
  },
  {
   "cell_type": "code",
   "execution_count": 7,
   "metadata": {},
   "outputs": [],
   "source": [
    "# popolarità dell'artista\n",
    "artist_popularity = merged_df.groupby('Genres')['Popularity_x'].sum() # raggruppiamo per genere e sommiamo la popolarità per ciascun genere"
   ]
  },
  {
   "cell_type": "code",
   "execution_count": 8,
   "metadata": {},
   "outputs": [],
   "source": [
    "# popolarità delle canzoni\n",
    "song_popularity = merged_df.groupby('Genres')['Popularity_y'].sum() # raggruppiamo per genere e sommiamo la popolarità per ciascun genere"
   ]
  },
  {
   "cell_type": "code",
   "execution_count": 9,
   "metadata": {},
   "outputs": [
    {
     "data": {
      "text/plain": [
       "\"['pop']\""
      ]
     },
     "execution_count": 9,
     "metadata": {},
     "output_type": "execute_result"
    }
   ],
   "source": [
    "# visualizziamo il genere dell'artista più ascoltato/popolare\n",
    "most_listened_artist_genre = artist_popularity.idxmax()\n",
    "most_listened_artist_genre"
   ]
  },
  {
   "cell_type": "code",
   "execution_count": 10,
   "metadata": {},
   "outputs": [
    {
     "data": {
      "text/plain": [
       "\"['pop']\""
      ]
     },
     "execution_count": 10,
     "metadata": {},
     "output_type": "execute_result"
    }
   ],
   "source": [
    "# visualizziamo il genere delle canzoni più ascoltate/popolari\n",
    "most_listened_song_genre = song_popularity.idxmax()\n",
    "most_listened_song_genre"
   ]
  },
  {
   "cell_type": "markdown",
   "metadata": {},
   "source": [
    "Quale è la canzone più ascoltata? (che ha più popolarità)"
   ]
  },
  {
   "cell_type": "code",
   "execution_count": 11,
   "metadata": {},
   "outputs": [
    {
     "data": {
      "text/plain": [
       "Track Name     Cruel Summer\n",
       "Artist Name    Taylor Swift\n",
       "Popularity               99\n",
       "Name: 550, dtype: object"
      ]
     },
     "execution_count": 11,
     "metadata": {},
     "output_type": "execute_result"
    }
   ],
   "source": [
    "most_listened_song = top_songs.loc[top_songs['Popularity'].idxmax()]\n",
    "\n",
    "most_listened_song[['Track Name', 'Artist Name', 'Popularity']]"
   ]
  },
  {
   "cell_type": "markdown",
   "metadata": {},
   "source": [
    "Quale è invece la canzone meno ascoltata? (che ha meno popolarità)"
   ]
  },
  {
   "cell_type": "code",
   "execution_count": 12,
   "metadata": {},
   "outputs": [
    {
     "data": {
      "text/plain": [
       "Track Name     Ride Or Die\n",
       "Artist Name           Nyla\n",
       "Popularity               0\n",
       "Name: 3107, dtype: object"
      ]
     },
     "execution_count": 12,
     "metadata": {},
     "output_type": "execute_result"
    }
   ],
   "source": [
    "least_listened_song = top_songs.loc[top_songs['Popularity'].idxmin()]\n",
    "\n",
    "least_listened_song[['Track Name', 'Artist Name', 'Popularity']]"
   ]
  },
  {
   "cell_type": "markdown",
   "metadata": {},
   "source": [
    "Analizziamo la correlazione tra la popolarità di un artista e il gender (il sesso) dell'artista. Osserviamo l'artista più famoso"
   ]
  },
  {
   "cell_type": "code",
   "execution_count": 13,
   "metadata": {},
   "outputs": [
    {
     "data": {
      "text/plain": [
       "('06HL4z0CvFAxyc27GXpf02', 'Taylor Swift', 'female')"
      ]
     },
     "execution_count": 13,
     "metadata": {},
     "output_type": "execute_result"
    }
   ],
   "source": [
    "popolarità_artista = merged_df.groupby(['ID', 'Name', 'Gender'])['Popularity_x'].sum()\n",
    "\n",
    "most_popular_artist = popolarità_artista.idxmax()\n",
    "most_popular_artist"
   ]
  },
  {
   "cell_type": "code",
   "execution_count": 14,
   "metadata": {},
   "outputs": [
    {
     "data": {
      "text/plain": [
       "ID                      Name          Gender\n",
       "06HL4z0CvFAxyc27GXpf02  Taylor Swift  female    10000\n",
       "3TVXtAsR1Inumwj472S9r4  Drake         male       9500\n",
       "4q3ewBCX7sLwd24euuV69X  Bad Bunny     male       9500\n",
       "1Xyo4u8uXC1ZmMpatF05PJ  The Weeknd    male       9300\n",
       "0Y5tJX1MQlPlqiwlOH1tJY  Travis Scott  male       9000\n",
       "Name: Popularity_x, dtype: int64"
      ]
     },
     "execution_count": 14,
     "metadata": {},
     "output_type": "execute_result"
    }
   ],
   "source": [
    "# ora osserviamo la top 5 artisti più famosi\n",
    "top_5_artists = popolarità_artista.nlargest(5)\n",
    "top_5_artists"
   ]
  },
  {
   "cell_type": "code",
   "execution_count": 15,
   "metadata": {},
   "outputs": [
    {
     "data": {
      "text/plain": [
       "ID                      Name           Gender\n",
       "06HL4z0CvFAxyc27GXpf02  Taylor Swift   female    10000\n",
       "3TVXtAsR1Inumwj472S9r4  Drake          male       9500\n",
       "4q3ewBCX7sLwd24euuV69X  Bad Bunny      male       9500\n",
       "1Xyo4u8uXC1ZmMpatF05PJ  The Weeknd     male       9300\n",
       "0Y5tJX1MQlPlqiwlOH1tJY  Travis Scott   male       9000\n",
       "5K4W6rqBFWDnAN6FQUkS6x  Kanye West     male       9000\n",
       "7dGJo4pcD2V6oG8kP0tJRR  Eminem         male       8900\n",
       "1RyvyyTE3xzB2ZywiAwp0i  Future         male       8800\n",
       "1URnnhqYAYcrqrcwql10ft  21 Savage      male       8800\n",
       "1uNFoZAHBGtllmzznpCI3s  Justin Bieber  male       8800\n",
       "Name: Popularity_x, dtype: int64"
      ]
     },
     "execution_count": 15,
     "metadata": {},
     "output_type": "execute_result"
    }
   ],
   "source": [
    "# ora una top 10 artisti più famosi\n",
    "top_10_artists = popolarità_artista.nlargest(10)\n",
    "top_10_artists"
   ]
  },
  {
   "cell_type": "markdown",
   "metadata": {},
   "source": [
    "Da questa analisi, osserviamo che l'artista più ascoltato è Taylor Swift, che ha come genere \"female\" (femminile). Per il resto della classifica, gli artisti presenti hanno come genere \"male\" (maschile). Dunque, possiamo dedurre che la maggior parte degli artisti più ascoltati è di genere maschile.\n",
    "\n",
    "Adesso, come sotto analisi, osserviamo il genere degli artisti di genere maschile."
   ]
  },
  {
   "cell_type": "code",
   "execution_count": 16,
   "metadata": {},
   "outputs": [
    {
     "data": {
      "text/plain": [
       "ID                      Name           Gender  Genres                                                           \n",
       "06HL4z0CvFAxyc27GXpf02  Taylor Swift   female  ['pop']                                                              10000\n",
       "3TVXtAsR1Inumwj472S9r4  Drake          male    ['canadian hip hop', 'canadian pop', 'hip hop', 'pop rap', 'rap']     9500\n",
       "4q3ewBCX7sLwd24euuV69X  Bad Bunny      male    ['reggaeton', 'trap latino', 'urbano latino']                         9500\n",
       "1Xyo4u8uXC1ZmMpatF05PJ  The Weeknd     male    ['canadian contemporary r&b', 'canadian pop', 'pop']                  9300\n",
       "0Y5tJX1MQlPlqiwlOH1tJY  Travis Scott   male    ['hip hop', 'rap', 'slap house']                                      9000\n",
       "5K4W6rqBFWDnAN6FQUkS6x  Kanye West     male    ['chicago rap', 'hip hop', 'rap']                                     9000\n",
       "7dGJo4pcD2V6oG8kP0tJRR  Eminem         male    ['detroit hip hop', 'hip hop', 'rap']                                 8900\n",
       "1RyvyyTE3xzB2ZywiAwp0i  Future         male    ['atl hip hop', 'hip hop', 'rap', 'southern hip hop', 'trap']         8800\n",
       "1URnnhqYAYcrqrcwql10ft  21 Savage      male    ['atl hip hop', 'hip hop', 'rap']                                     8800\n",
       "1uNFoZAHBGtllmzznpCI3s  Justin Bieber  male    ['canadian pop', 'pop']                                               8800\n",
       "Name: Popularity_x, dtype: int64"
      ]
     },
     "execution_count": 16,
     "metadata": {},
     "output_type": "execute_result"
    }
   ],
   "source": [
    "popolarità_artista = merged_df.groupby(['ID', 'Name', 'Gender', 'Genres'])['Popularity_x'].sum()\n",
    "\n",
    "top_10_with_genre = popolarità_artista.nlargest(10)\n",
    "top_10_with_genre"
   ]
  },
  {
   "cell_type": "markdown",
   "metadata": {},
   "source": [
    "Da questa analisi vediamo che, oltre al pop, i generi più ascoltati sono 'hip hop' e 'rap', insieme ai loro sotto generi (e.g 'atl hip hop' e 'pop rap')"
   ]
  },
  {
   "cell_type": "code",
   "execution_count": 17,
   "metadata": {},
   "outputs": [
    {
     "data": {
      "text/html": [
       "<div>\n",
       "<style scoped>\n",
       "    .dataframe tbody tr th:only-of-type {\n",
       "        vertical-align: middle;\n",
       "    }\n",
       "\n",
       "    .dataframe tbody tr th {\n",
       "        vertical-align: top;\n",
       "    }\n",
       "\n",
       "    .dataframe thead th {\n",
       "        text-align: right;\n",
       "    }\n",
       "</style>\n",
       "<table border=\"1\" class=\"dataframe\">\n",
       "  <thead>\n",
       "    <tr style=\"text-align: right;\">\n",
       "      <th></th>\n",
       "      <th>Track Name</th>\n",
       "      <th>Popularity</th>\n",
       "      <th>Is Explicit</th>\n",
       "    </tr>\n",
       "  </thead>\n",
       "  <tbody>\n",
       "    <tr>\n",
       "      <th>36856</th>\n",
       "      <td>Cruel Summer</td>\n",
       "      <td>99</td>\n",
       "      <td>False</td>\n",
       "    </tr>\n",
       "    <tr>\n",
       "      <th>3018</th>\n",
       "      <td>All I Want for Christmas Is You</td>\n",
       "      <td>99</td>\n",
       "      <td>False</td>\n",
       "    </tr>\n",
       "    <tr>\n",
       "      <th>29988</th>\n",
       "      <td>PERRO NEGRO</td>\n",
       "      <td>97</td>\n",
       "      <td>True</td>\n",
       "    </tr>\n",
       "    <tr>\n",
       "      <th>41</th>\n",
       "      <td>MONACO</td>\n",
       "      <td>96</td>\n",
       "      <td>True</td>\n",
       "    </tr>\n",
       "    <tr>\n",
       "      <th>28308</th>\n",
       "      <td>Santa Tell Me</td>\n",
       "      <td>95</td>\n",
       "      <td>False</td>\n",
       "    </tr>\n",
       "    <tr>\n",
       "      <th>28598</th>\n",
       "      <td>HARLEY QUINN</td>\n",
       "      <td>95</td>\n",
       "      <td>True</td>\n",
       "    </tr>\n",
       "    <tr>\n",
       "      <th>25394</th>\n",
       "      <td>LALA</td>\n",
       "      <td>95</td>\n",
       "      <td>True</td>\n",
       "    </tr>\n",
       "    <tr>\n",
       "      <th>20300</th>\n",
       "      <td>What Was I Made For? [From The Motion Picture ...</td>\n",
       "      <td>94</td>\n",
       "      <td>False</td>\n",
       "    </tr>\n",
       "    <tr>\n",
       "      <th>20281</th>\n",
       "      <td>Starboy</td>\n",
       "      <td>94</td>\n",
       "      <td>True</td>\n",
       "    </tr>\n",
       "    <tr>\n",
       "      <th>20280</th>\n",
       "      <td>One Of The Girls (with JENNIE, Lily Rose Depp)</td>\n",
       "      <td>94</td>\n",
       "      <td>False</td>\n",
       "    </tr>\n",
       "    <tr>\n",
       "      <th>8619</th>\n",
       "      <td>Is It Over Now? (Taylor's Version) (From The V...</td>\n",
       "      <td>94</td>\n",
       "      <td>False</td>\n",
       "    </tr>\n",
       "    <tr>\n",
       "      <th>5104</th>\n",
       "      <td>As It Was</td>\n",
       "      <td>94</td>\n",
       "      <td>False</td>\n",
       "    </tr>\n",
       "    <tr>\n",
       "      <th>17316</th>\n",
       "      <td>fukumean</td>\n",
       "      <td>93</td>\n",
       "      <td>True</td>\n",
       "    </tr>\n",
       "    <tr>\n",
       "      <th>35330</th>\n",
       "      <td>Prada</td>\n",
       "      <td>93</td>\n",
       "      <td>True</td>\n",
       "    </tr>\n",
       "    <tr>\n",
       "      <th>32462</th>\n",
       "      <td>Houdini</td>\n",
       "      <td>93</td>\n",
       "      <td>False</td>\n",
       "    </tr>\n",
       "  </tbody>\n",
       "</table>\n",
       "</div>"
      ],
      "text/plain": [
       "                                              Track Name  Popularity  \\\n",
       "36856                                       Cruel Summer          99   \n",
       "3018                     All I Want for Christmas Is You          99   \n",
       "29988                                        PERRO NEGRO          97   \n",
       "41                                                MONACO          96   \n",
       "28308                                      Santa Tell Me          95   \n",
       "28598                                       HARLEY QUINN          95   \n",
       "25394                                               LALA          95   \n",
       "20300  What Was I Made For? [From The Motion Picture ...          94   \n",
       "20281                                            Starboy          94   \n",
       "20280     One Of The Girls (with JENNIE, Lily Rose Depp)          94   \n",
       "8619   Is It Over Now? (Taylor's Version) (From The V...          94   \n",
       "5104                                           As It Was          94   \n",
       "17316                                           fukumean          93   \n",
       "35330                                              Prada          93   \n",
       "32462                                            Houdini          93   \n",
       "\n",
       "       Is Explicit  \n",
       "36856        False  \n",
       "3018         False  \n",
       "29988         True  \n",
       "41            True  \n",
       "28308        False  \n",
       "28598         True  \n",
       "25394         True  \n",
       "20300        False  \n",
       "20281         True  \n",
       "20280        False  \n",
       "8619         False  \n",
       "5104         False  \n",
       "17316         True  \n",
       "35330         True  \n",
       "32462        False  "
      ]
     },
     "execution_count": 17,
     "metadata": {},
     "output_type": "execute_result"
    }
   ],
   "source": [
    "sorted_songs = top_songs.sort_values(by='Popularity', ascending=False)\n",
    "top_10_songs = sorted_songs.drop_duplicates(subset='Track Name').head(15)\n",
    "top_10_songs[['Track Name', 'Popularity', 'Is Explicit']]"
   ]
  },
  {
   "cell_type": "code",
   "execution_count": 18,
   "metadata": {},
   "outputs": [
    {
     "data": {
      "text/plain": [
       "False    8\n",
       "True     7\n",
       "Name: Is Explicit, dtype: int64"
      ]
     },
     "execution_count": 18,
     "metadata": {},
     "output_type": "execute_result"
    }
   ],
   "source": [
    "conteggio = top_10_songs['Is Explicit'].value_counts()\n",
    "conteggio"
   ]
  },
  {
   "cell_type": "code",
   "execution_count": 19,
   "metadata": {},
   "outputs": [
    {
     "data": {
      "text/plain": [
       "False    23196\n",
       "True     13950\n",
       "Name: Is Explicit, dtype: int64"
      ]
     },
     "execution_count": 19,
     "metadata": {},
     "output_type": "execute_result"
    }
   ],
   "source": [
    "# contiamo il totale di canzoni non esplicite (valore 'False') e il totale di canzoni esplicite (valore 'True')\n",
    "explicit_songs = top_songs['Is Explicit'].value_counts()\n",
    "explicit_songs"
   ]
  },
  {
   "cell_type": "markdown",
   "metadata": {},
   "source": [
    "Su un totale di 23.196 canzoni non esplicite e un totale di 13.950 di canzoni esplicite, è chiaro che le canzoni non esplicite sono presenti in maggior numero. Inoltre, se osserviamo l'analisi precedente, su un totale di 15 canzoni con popolarità maggiore, la maggior parte di esse non sono esplicite. Infatti, contiamo 8 non esplicite e 7 esplicite. Dunque, possiamo concludere che gli ascoltatori preferiscono evidentemente ascoltare canzoni non esplicite."
   ]
  },
  {
   "cell_type": "markdown",
   "metadata": {},
   "source": [
    "Vediamo se è presente una correlazione tra l'età degli artisti e il numero di followers che hanno"
   ]
  },
  {
   "cell_type": "code",
   "execution_count": 20,
   "metadata": {},
   "outputs": [
    {
     "data": {
      "text/plain": [
       "0.10171870524373149"
      ]
     },
     "execution_count": 20,
     "metadata": {},
     "output_type": "execute_result"
    }
   ],
   "source": [
    "correlation = artisti['Age'].corr(artisti['Followers'])\n",
    "correlation"
   ]
  },
  {
   "cell_type": "markdown",
   "metadata": {},
   "source": [
    "Il coefficiente di correlazione ottenuto è approssimativamente 0.10, ciò significa che è presente una correlazione molto debole e positiva. Infatti, se è presente un trend positivo, la relazione non è molto forte. Possiamo quindi dedurre che l'età non costituisca un fattore che influisce molto sul numero di followers di un artista. "
   ]
  },
  {
   "cell_type": "markdown",
   "metadata": {},
   "source": [
    "Proviamo con un altro fattore"
   ]
  },
  {
   "cell_type": "code",
   "execution_count": 21,
   "metadata": {},
   "outputs": [
    {
     "data": {
      "text/plain": [
       "0.11406598755198748"
      ]
     },
     "execution_count": 21,
     "metadata": {},
     "output_type": "execute_result"
    }
   ],
   "source": [
    "correlation_2 = artisti['Country'].astype('category').cat.codes.corr(artisti['Followers'])\n",
    "correlation_2"
   ]
  },
  {
   "cell_type": "markdown",
   "metadata": {},
   "source": [
    "Anche qui, come la precedente analisi, possiamo dedurre che la nazione di provenienza di un artista non sia il fattore più determinante per quanto riguarda il numero di followers. Essendo però leggermente più alto, può significare che rispetto all'età, la nazione di provenienza possa influire di più sul numero di followers, ma resta comunque una relazione non molto forte."
   ]
  },
  {
   "cell_type": "markdown",
   "metadata": {},
   "source": [
    "Vediamo un ultimo esempio"
   ]
  },
  {
   "cell_type": "code",
   "execution_count": 22,
   "metadata": {},
   "outputs": [
    {
     "data": {
      "text/plain": [
       "0.1913351681627288"
      ]
     },
     "execution_count": 22,
     "metadata": {},
     "output_type": "execute_result"
    }
   ],
   "source": [
    "artisti['num_genres'] = artisti['Genres'].str.split(',').apply(lambda x: len(x))\n",
    "correlation_3 = artisti['num_genres'].corr(artisti['Followers'])\n",
    "correlation_3"
   ]
  },
  {
   "cell_type": "markdown",
   "metadata": {},
   "source": [
    "In questo caso, come i precedenti, notiamo che la relazione tra le due variabili non è molto forte, ma in questo esempio il coefficiente di correlazione è più alto (approx. 0.19). Ciò può significare che gli artisti con più generi tendono ad avere più followers. \n",
    "È interessante notare come la varietà di generi di un artista possa avere un determinato ruolo nella popolarità di un artista, su dunque il numero dei followers. "
   ]
  },
  {
   "cell_type": "code",
   "execution_count": null,
   "metadata": {},
   "outputs": [],
   "source": []
  }
 ],
 "metadata": {
  "kernelspec": {
   "display_name": "base",
   "language": "python",
   "name": "python3"
  },
  "language_info": {
   "codemirror_mode": {
    "name": "ipython",
    "version": 3
   },
   "file_extension": ".py",
   "mimetype": "text/x-python",
   "name": "python",
   "nbconvert_exporter": "python",
   "pygments_lexer": "ipython3",
   "version": "3.11.4"
  }
 },
 "nbformat": 4,
 "nbformat_minor": 2
}
