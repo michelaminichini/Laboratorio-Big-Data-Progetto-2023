{
 "cells": [
  {
   "cell_type": "markdown",
   "metadata": {},
   "source": [
    "Top 10K Artisti negli Stati Uniti e le loro canzoni più famose"
   ]
  },
  {
   "cell_type": "markdown",
   "metadata": {},
   "source": [
    "Per questo progetto abbiamo selezionato un dataset formato da 2 file csv. Essi raccolgono collettivamente i dati sulle 10 canzoni più popolari di ciascuno dei 10.000 artisti più ascoltati negli Stati Uniti.\n",
    "Questo set di dati copre un'ampia gamma di generi musicali e un determinato periodo di tempo, catturando i gusti dinamici degli appassionati di musica nel paese."
   ]
  },
  {
   "cell_type": "markdown",
   "metadata": {},
   "source": [
    "Prima di iniziare, importiamo le librerie che andremo ad utilizzare"
   ]
  },
  {
   "cell_type": "code",
   "execution_count": 79,
   "metadata": {},
   "outputs": [],
   "source": [
    "import pandas as pd\n",
    "import matplotlib.pyplot as plt\n",
    "import seaborn as sns"
   ]
  },
  {
   "cell_type": "markdown",
   "metadata": {},
   "source": [
    "Importiamo ora i file csv che compongono il dataset che analizzeremo"
   ]
  },
  {
   "cell_type": "markdown",
   "metadata": {},
   "source": [
    "Importiamo il primo file contenente i dati relativi agli artisti. Lo andiamo a salvare in una variabile chiamata 'artisti'"
   ]
  },
  {
   "cell_type": "code",
   "execution_count": 2,
   "metadata": {},
   "outputs": [],
   "source": [
    "artisti = pd.read_csv('Artists.csv', sep=',')"
   ]
  },
  {
   "cell_type": "markdown",
   "metadata": {},
   "source": [
    "Osserviamo una 'preview' dei dati che 'artisti' contiene con il metodo 'head'"
   ]
  },
  {
   "cell_type": "code",
   "execution_count": 3,
   "metadata": {},
   "outputs": [
    {
     "data": {
      "text/html": [
       "<div>\n",
       "<style scoped>\n",
       "    .dataframe tbody tr th:only-of-type {\n",
       "        vertical-align: middle;\n",
       "    }\n",
       "\n",
       "    .dataframe tbody tr th {\n",
       "        vertical-align: top;\n",
       "    }\n",
       "\n",
       "    .dataframe thead th {\n",
       "        text-align: right;\n",
       "    }\n",
       "</style>\n",
       "<table border=\"1\" class=\"dataframe\">\n",
       "  <thead>\n",
       "    <tr style=\"text-align: right;\">\n",
       "      <th></th>\n",
       "      <th>Name</th>\n",
       "      <th>ID</th>\n",
       "      <th>Gender</th>\n",
       "      <th>Age</th>\n",
       "      <th>Country</th>\n",
       "      <th>Genres</th>\n",
       "      <th>Popularity</th>\n",
       "      <th>Followers</th>\n",
       "      <th>URI</th>\n",
       "    </tr>\n",
       "  </thead>\n",
       "  <tbody>\n",
       "    <tr>\n",
       "      <th>0</th>\n",
       "      <td>Drake</td>\n",
       "      <td>3TVXtAsR1Inumwj472S9r4</td>\n",
       "      <td>male</td>\n",
       "      <td>33</td>\n",
       "      <td>CA</td>\n",
       "      <td>['canadian hip hop', 'canadian pop', 'hip hop'...</td>\n",
       "      <td>95</td>\n",
       "      <td>83298497</td>\n",
       "      <td>spotify:artist:3TVXtAsR1Inumwj472S9r4</td>\n",
       "    </tr>\n",
       "    <tr>\n",
       "      <th>1</th>\n",
       "      <td>Post Malone</td>\n",
       "      <td>246dkjvS1zLTtiykXe5h60</td>\n",
       "      <td>male</td>\n",
       "      <td>25</td>\n",
       "      <td>US</td>\n",
       "      <td>['dfw rap', 'melodic rap', 'pop', 'rap']</td>\n",
       "      <td>86</td>\n",
       "      <td>43130108</td>\n",
       "      <td>spotify:artist:246dkjvS1zLTtiykXe5h60</td>\n",
       "    </tr>\n",
       "    <tr>\n",
       "      <th>2</th>\n",
       "      <td>Ed Sheeran</td>\n",
       "      <td>6eUKZXaKkcviH0Ku9w2n3V</td>\n",
       "      <td>male</td>\n",
       "      <td>29</td>\n",
       "      <td>GB</td>\n",
       "      <td>['pop', 'singer-songwriter pop', 'uk pop']</td>\n",
       "      <td>87</td>\n",
       "      <td>115998928</td>\n",
       "      <td>spotify:artist:6eUKZXaKkcviH0Ku9w2n3V</td>\n",
       "    </tr>\n",
       "    <tr>\n",
       "      <th>3</th>\n",
       "      <td>J Balvin</td>\n",
       "      <td>1vyhD5VmyZ7KMfW5gqLgo5</td>\n",
       "      <td>male</td>\n",
       "      <td>35</td>\n",
       "      <td>CO</td>\n",
       "      <td>['reggaeton', 'reggaeton colombiano', 'trap la...</td>\n",
       "      <td>83</td>\n",
       "      <td>38028010</td>\n",
       "      <td>spotify:artist:1vyhD5VmyZ7KMfW5gqLgo5</td>\n",
       "    </tr>\n",
       "    <tr>\n",
       "      <th>4</th>\n",
       "      <td>Bad Bunny</td>\n",
       "      <td>4q3ewBCX7sLwd24euuV69X</td>\n",
       "      <td>male</td>\n",
       "      <td>26</td>\n",
       "      <td>PR</td>\n",
       "      <td>['reggaeton', 'trap latino', 'urbano latino']</td>\n",
       "      <td>95</td>\n",
       "      <td>77931484</td>\n",
       "      <td>spotify:artist:4q3ewBCX7sLwd24euuV69X</td>\n",
       "    </tr>\n",
       "  </tbody>\n",
       "</table>\n",
       "</div>"
      ],
      "text/plain": [
       "          Name                      ID Gender  Age Country  \\\n",
       "0        Drake  3TVXtAsR1Inumwj472S9r4   male   33      CA   \n",
       "1  Post Malone  246dkjvS1zLTtiykXe5h60   male   25      US   \n",
       "2   Ed Sheeran  6eUKZXaKkcviH0Ku9w2n3V   male   29      GB   \n",
       "3     J Balvin  1vyhD5VmyZ7KMfW5gqLgo5   male   35      CO   \n",
       "4    Bad Bunny  4q3ewBCX7sLwd24euuV69X   male   26      PR   \n",
       "\n",
       "                                              Genres  Popularity  Followers  \\\n",
       "0  ['canadian hip hop', 'canadian pop', 'hip hop'...          95   83298497   \n",
       "1           ['dfw rap', 'melodic rap', 'pop', 'rap']          86   43130108   \n",
       "2         ['pop', 'singer-songwriter pop', 'uk pop']          87  115998928   \n",
       "3  ['reggaeton', 'reggaeton colombiano', 'trap la...          83   38028010   \n",
       "4      ['reggaeton', 'trap latino', 'urbano latino']          95   77931484   \n",
       "\n",
       "                                     URI  \n",
       "0  spotify:artist:3TVXtAsR1Inumwj472S9r4  \n",
       "1  spotify:artist:246dkjvS1zLTtiykXe5h60  \n",
       "2  spotify:artist:6eUKZXaKkcviH0Ku9w2n3V  \n",
       "3  spotify:artist:1vyhD5VmyZ7KMfW5gqLgo5  \n",
       "4  spotify:artist:4q3ewBCX7sLwd24euuV69X  "
      ]
     },
     "execution_count": 3,
     "metadata": {},
     "output_type": "execute_result"
    }
   ],
   "source": [
    "artisti.head()"
   ]
  },
  {
   "cell_type": "markdown",
   "metadata": {},
   "source": [
    "Importiamo il secondo file contenente i dati relativi alle canzoni degli artisti. Salviamolo in una variabile chiamata 'top_songs' ed osserviamo una 'preview' dei dati che contiene con il metodo usato precedentemente"
   ]
  },
  {
   "cell_type": "code",
   "execution_count": 3,
   "metadata": {},
   "outputs": [],
   "source": [
    "top_songs = pd.read_csv('Top_Songs_US.csv', sep=',')"
   ]
  },
  {
   "cell_type": "code",
   "execution_count": 6,
   "metadata": {},
   "outputs": [
    {
     "data": {
      "text/html": [
       "<div>\n",
       "<style scoped>\n",
       "    .dataframe tbody tr th:only-of-type {\n",
       "        vertical-align: middle;\n",
       "    }\n",
       "\n",
       "    .dataframe tbody tr th {\n",
       "        vertical-align: top;\n",
       "    }\n",
       "\n",
       "    .dataframe thead th {\n",
       "        text-align: right;\n",
       "    }\n",
       "</style>\n",
       "<table border=\"1\" class=\"dataframe\">\n",
       "  <thead>\n",
       "    <tr style=\"text-align: right;\">\n",
       "      <th></th>\n",
       "      <th>Album Type</th>\n",
       "      <th>Artist ID</th>\n",
       "      <th>Artist Name</th>\n",
       "      <th>Artist Song Rank</th>\n",
       "      <th>Track Name</th>\n",
       "      <th>Is Playable</th>\n",
       "      <th>Album Name</th>\n",
       "      <th>Release Date</th>\n",
       "      <th>Total Album Tracks</th>\n",
       "      <th>Is Explicit</th>\n",
       "      <th>ISRC</th>\n",
       "      <th>Song Duration</th>\n",
       "      <th>Track Number</th>\n",
       "      <th>Popularity</th>\n",
       "      <th>Track Id</th>\n",
       "      <th>Track URI</th>\n",
       "    </tr>\n",
       "  </thead>\n",
       "  <tbody>\n",
       "    <tr>\n",
       "      <th>0</th>\n",
       "      <td>album</td>\n",
       "      <td>3TVXtAsR1Inumwj472S9r4</td>\n",
       "      <td>Drake</td>\n",
       "      <td>1</td>\n",
       "      <td>IDGAF (feat. Yeat)</td>\n",
       "      <td>True</td>\n",
       "      <td>For All The Dogs</td>\n",
       "      <td>2023-10-06</td>\n",
       "      <td>23</td>\n",
       "      <td>True</td>\n",
       "      <td>USUG12306072</td>\n",
       "      <td>260111</td>\n",
       "      <td>7</td>\n",
       "      <td>93</td>\n",
       "      <td>2YSzYUF3jWqb9YP9VXmpjE</td>\n",
       "      <td>spotify:track:2YSzYUF3jWqb9YP9VXmpjE</td>\n",
       "    </tr>\n",
       "    <tr>\n",
       "      <th>1</th>\n",
       "      <td>album</td>\n",
       "      <td>3TVXtAsR1Inumwj472S9r4</td>\n",
       "      <td>Drake</td>\n",
       "      <td>2</td>\n",
       "      <td>First Person Shooter (feat. J. Cole)</td>\n",
       "      <td>True</td>\n",
       "      <td>For All The Dogs</td>\n",
       "      <td>2023-10-06</td>\n",
       "      <td>23</td>\n",
       "      <td>True</td>\n",
       "      <td>USUG12306071</td>\n",
       "      <td>247444</td>\n",
       "      <td>6</td>\n",
       "      <td>91</td>\n",
       "      <td>7aqfrAY2p9BUSiupwk3svU</td>\n",
       "      <td>spotify:track:7aqfrAY2p9BUSiupwk3svU</td>\n",
       "    </tr>\n",
       "    <tr>\n",
       "      <th>2</th>\n",
       "      <td>album</td>\n",
       "      <td>3TVXtAsR1Inumwj472S9r4</td>\n",
       "      <td>Drake</td>\n",
       "      <td>3</td>\n",
       "      <td>Rich Baby Daddy (feat. Sexyy Red &amp; SZA)</td>\n",
       "      <td>True</td>\n",
       "      <td>For All The Dogs</td>\n",
       "      <td>2023-10-06</td>\n",
       "      <td>23</td>\n",
       "      <td>True</td>\n",
       "      <td>USUG12306085</td>\n",
       "      <td>319191</td>\n",
       "      <td>20</td>\n",
       "      <td>89</td>\n",
       "      <td>1yeB8MUNeLo9Ek1UEpsyz6</td>\n",
       "      <td>spotify:track:1yeB8MUNeLo9Ek1UEpsyz6</td>\n",
       "    </tr>\n",
       "    <tr>\n",
       "      <th>3</th>\n",
       "      <td>album</td>\n",
       "      <td>3TVXtAsR1Inumwj472S9r4</td>\n",
       "      <td>Drake</td>\n",
       "      <td>4</td>\n",
       "      <td>Jimmy Cooks (feat. 21 Savage)</td>\n",
       "      <td>True</td>\n",
       "      <td>Honestly, Nevermind</td>\n",
       "      <td>2022-06-17</td>\n",
       "      <td>14</td>\n",
       "      <td>True</td>\n",
       "      <td>USUG12204897</td>\n",
       "      <td>218364</td>\n",
       "      <td>14</td>\n",
       "      <td>89</td>\n",
       "      <td>3F5CgOj3wFlRv51JsHbxhe</td>\n",
       "      <td>spotify:track:3F5CgOj3wFlRv51JsHbxhe</td>\n",
       "    </tr>\n",
       "    <tr>\n",
       "      <th>4</th>\n",
       "      <td>album</td>\n",
       "      <td>3TVXtAsR1Inumwj472S9r4</td>\n",
       "      <td>Drake</td>\n",
       "      <td>5</td>\n",
       "      <td>One Dance</td>\n",
       "      <td>True</td>\n",
       "      <td>Views</td>\n",
       "      <td>2016-05-06</td>\n",
       "      <td>20</td>\n",
       "      <td>False</td>\n",
       "      <td>USCM51600028</td>\n",
       "      <td>173986</td>\n",
       "      <td>12</td>\n",
       "      <td>89</td>\n",
       "      <td>1zi7xx7UVEFkmKfv06H8x0</td>\n",
       "      <td>spotify:track:1zi7xx7UVEFkmKfv06H8x0</td>\n",
       "    </tr>\n",
       "  </tbody>\n",
       "</table>\n",
       "</div>"
      ],
      "text/plain": [
       "  Album Type               Artist ID Artist Name  Artist Song Rank  \\\n",
       "0      album  3TVXtAsR1Inumwj472S9r4       Drake                 1   \n",
       "1      album  3TVXtAsR1Inumwj472S9r4       Drake                 2   \n",
       "2      album  3TVXtAsR1Inumwj472S9r4       Drake                 3   \n",
       "3      album  3TVXtAsR1Inumwj472S9r4       Drake                 4   \n",
       "4      album  3TVXtAsR1Inumwj472S9r4       Drake                 5   \n",
       "\n",
       "                                Track Name  Is Playable           Album Name  \\\n",
       "0                       IDGAF (feat. Yeat)         True     For All The Dogs   \n",
       "1     First Person Shooter (feat. J. Cole)         True     For All The Dogs   \n",
       "2  Rich Baby Daddy (feat. Sexyy Red & SZA)         True     For All The Dogs   \n",
       "3            Jimmy Cooks (feat. 21 Savage)         True  Honestly, Nevermind   \n",
       "4                                One Dance         True                Views   \n",
       "\n",
       "  Release Date  Total Album Tracks  Is Explicit          ISRC  Song Duration  \\\n",
       "0   2023-10-06                  23         True  USUG12306072         260111   \n",
       "1   2023-10-06                  23         True  USUG12306071         247444   \n",
       "2   2023-10-06                  23         True  USUG12306085         319191   \n",
       "3   2022-06-17                  14         True  USUG12204897         218364   \n",
       "4   2016-05-06                  20        False  USCM51600028         173986   \n",
       "\n",
       "   Track Number  Popularity                Track Id  \\\n",
       "0             7          93  2YSzYUF3jWqb9YP9VXmpjE   \n",
       "1             6          91  7aqfrAY2p9BUSiupwk3svU   \n",
       "2            20          89  1yeB8MUNeLo9Ek1UEpsyz6   \n",
       "3            14          89  3F5CgOj3wFlRv51JsHbxhe   \n",
       "4            12          89  1zi7xx7UVEFkmKfv06H8x0   \n",
       "\n",
       "                              Track URI  \n",
       "0  spotify:track:2YSzYUF3jWqb9YP9VXmpjE  \n",
       "1  spotify:track:7aqfrAY2p9BUSiupwk3svU  \n",
       "2  spotify:track:1yeB8MUNeLo9Ek1UEpsyz6  \n",
       "3  spotify:track:3F5CgOj3wFlRv51JsHbxhe  \n",
       "4  spotify:track:1zi7xx7UVEFkmKfv06H8x0  "
      ]
     },
     "execution_count": 6,
     "metadata": {},
     "output_type": "execute_result"
    }
   ],
   "source": [
    "top_songs.head()"
   ]
  },
  {
   "cell_type": "markdown",
   "metadata": {},
   "source": [
    "Ora visualizziamo il tipo dei dati presenti nei file utilizzando il metodo 'info'. Esso è comunemente usato per ottenere informazioni sul tipo di dati di ogni colonna del dataset. Si possono inoltre controllare valori come la presenza di valori null e l'utilizzo di memoria. \n",
    "È cruciale ricevere informazioni sul tipo di dati che il dataset contiene in modo da comprendere al meglio come trattare e processare i dati."
   ]
  },
  {
   "cell_type": "code",
   "execution_count": 4,
   "metadata": {},
   "outputs": [
    {
     "name": "stdout",
     "output_type": "stream",
     "text": [
      "<class 'pandas.core.frame.DataFrame'>\n",
      "RangeIndex: 9488 entries, 0 to 9487\n",
      "Data columns (total 9 columns):\n",
      " #   Column      Non-Null Count  Dtype \n",
      "---  ------      --------------  ----- \n",
      " 0   Name        9488 non-null   object\n",
      " 1   ID          9488 non-null   object\n",
      " 2   Gender      7829 non-null   object\n",
      " 3   Age         9488 non-null   int64 \n",
      " 4   Country     6305 non-null   object\n",
      " 5   Genres      9488 non-null   object\n",
      " 6   Popularity  9488 non-null   int64 \n",
      " 7   Followers   9488 non-null   int64 \n",
      " 8   URI         9488 non-null   object\n",
      "dtypes: int64(3), object(6)\n",
      "memory usage: 667.3+ KB\n"
     ]
    }
   ],
   "source": [
    "artisti.info()"
   ]
  },
  {
   "cell_type": "markdown",
   "metadata": {},
   "source": [
    "Dalla precedente operazione, osserviamo che su 9488 valori per ciascuna colonna, nelle colonne 'Gender' e 'Country' il numero dei valori non-null è più basso. Ciò significa che sono presenti valori null (NaN). Procediamo dunque ad eliminarli con il metodo 'dropna'."
   ]
  },
  {
   "cell_type": "markdown",
   "metadata": {},
   "source": [
    "Eseguiamo il metodo su tutto il file degli artisti. In questo modo, i dati risultano maggiormente rappresentativi."
   ]
  },
  {
   "cell_type": "code",
   "execution_count": 4,
   "metadata": {},
   "outputs": [],
   "source": [
    "artisti_no_nan = artisti.dropna()"
   ]
  },
  {
   "cell_type": "markdown",
   "metadata": {},
   "source": [
    "Verifichiamo che l'operazione sia andata a buon fine"
   ]
  },
  {
   "cell_type": "code",
   "execution_count": 5,
   "metadata": {},
   "outputs": [
    {
     "name": "stdout",
     "output_type": "stream",
     "text": [
      "<class 'pandas.core.frame.DataFrame'>\n",
      "Int64Index: 6126 entries, 0 to 9487\n",
      "Data columns (total 9 columns):\n",
      " #   Column      Non-Null Count  Dtype \n",
      "---  ------      --------------  ----- \n",
      " 0   Name        6126 non-null   object\n",
      " 1   ID          6126 non-null   object\n",
      " 2   Gender      6126 non-null   object\n",
      " 3   Age         6126 non-null   int64 \n",
      " 4   Country     6126 non-null   object\n",
      " 5   Genres      6126 non-null   object\n",
      " 6   Popularity  6126 non-null   int64 \n",
      " 7   Followers   6126 non-null   int64 \n",
      " 8   URI         6126 non-null   object\n",
      "dtypes: int64(3), object(6)\n",
      "memory usage: 478.6+ KB\n"
     ]
    }
   ],
   "source": [
    "artisti_no_nan.info()"
   ]
  },
  {
   "cell_type": "markdown",
   "metadata": {},
   "source": [
    "Notiamo che il numero dei valori non-null in ciascuna colonna è ora uguale per tutte le colonne. Ciò significa che i valori NaN nelle colonne 'Country' e 'Gender' sono stati rimossi, e con loro l'intera riga in cui erano contenuti. In questo modo, gli artisti che contenevano informazioni mancanti non verranno presi in considerazione."
   ]
  },
  {
   "cell_type": "markdown",
   "metadata": {},
   "source": [
    "Eseguiamo ora l'analisi del tipo dei dati del file 'top_songs' utilizzando il metodo 'info'"
   ]
  },
  {
   "cell_type": "code",
   "execution_count": 7,
   "metadata": {},
   "outputs": [
    {
     "name": "stdout",
     "output_type": "stream",
     "text": [
      "<class 'pandas.core.frame.DataFrame'>\n",
      "RangeIndex: 37146 entries, 0 to 37145\n",
      "Data columns (total 16 columns):\n",
      " #   Column              Non-Null Count  Dtype \n",
      "---  ------              --------------  ----- \n",
      " 0   Album Type          37146 non-null  object\n",
      " 1   Artist ID           37146 non-null  object\n",
      " 2   Artist Name         37146 non-null  object\n",
      " 3   Artist Song Rank    37146 non-null  int64 \n",
      " 4   Track Name          37146 non-null  object\n",
      " 5   Is Playable         37146 non-null  bool  \n",
      " 6   Album Name          37146 non-null  object\n",
      " 7   Release Date        37146 non-null  object\n",
      " 8   Total Album Tracks  37146 non-null  int64 \n",
      " 9   Is Explicit         37146 non-null  bool  \n",
      " 10  ISRC                37146 non-null  object\n",
      " 11  Song Duration       37146 non-null  int64 \n",
      " 12  Track Number        37146 non-null  int64 \n",
      " 13  Popularity          37146 non-null  int64 \n",
      " 14  Track Id            37146 non-null  object\n",
      " 15  Track URI           37146 non-null  object\n",
      "dtypes: bool(2), int64(5), object(9)\n",
      "memory usage: 4.0+ MB\n"
     ]
    }
   ],
   "source": [
    "top_songs.info()"
   ]
  },
  {
   "cell_type": "markdown",
   "metadata": {},
   "source": [
    "Notiamo che non ci sono colonne che presentano valori null, poichè il valore dei dati non-null risulta essere 37146 per ciascuna."
   ]
  },
  {
   "cell_type": "markdown",
   "metadata": {},
   "source": [
    "Osserviamo però che il tipo della colonna 'Release Date' non risulta essere corretto. Esso infatti è un object, dunque andiamo a convertirlo in tipo datetime."
   ]
  },
  {
   "cell_type": "code",
   "execution_count": 5,
   "metadata": {},
   "outputs": [],
   "source": [
    "top_songs['Release Date'] = pd.to_datetime(top_songs['Release Date'], utc=True).dt.tz_convert('Europe/Berlin')"
   ]
  },
  {
   "cell_type": "markdown",
   "metadata": {},
   "source": [
    "Verifichiamo che il tipo della colonna 'Release Date' sia stato correttamente convertito"
   ]
  },
  {
   "cell_type": "code",
   "execution_count": 13,
   "metadata": {},
   "outputs": [
    {
     "name": "stdout",
     "output_type": "stream",
     "text": [
      "<class 'pandas.core.frame.DataFrame'>\n",
      "RangeIndex: 37146 entries, 0 to 37145\n",
      "Data columns (total 16 columns):\n",
      " #   Column              Non-Null Count  Dtype                        \n",
      "---  ------              --------------  -----                        \n",
      " 0   Album Type          37146 non-null  object                       \n",
      " 1   Artist ID           37146 non-null  object                       \n",
      " 2   Artist Name         37146 non-null  object                       \n",
      " 3   Artist Song Rank    37146 non-null  int64                        \n",
      " 4   Track Name          37146 non-null  object                       \n",
      " 5   Is Playable         37146 non-null  bool                         \n",
      " 6   Album Name          37146 non-null  object                       \n",
      " 7   Release Date        37146 non-null  datetime64[ns, Europe/Berlin]\n",
      " 8   Total Album Tracks  37146 non-null  int64                        \n",
      " 9   Is Explicit         37146 non-null  bool                         \n",
      " 10  ISRC                37146 non-null  object                       \n",
      " 11  Song Duration       37146 non-null  int64                        \n",
      " 12  Track Number        37146 non-null  int64                        \n",
      " 13  Popularity          37146 non-null  int64                        \n",
      " 14  Track Id            37146 non-null  object                       \n",
      " 15  Track URI           37146 non-null  object                       \n",
      "dtypes: bool(2), datetime64[ns, Europe/Berlin](1), int64(5), object(8)\n",
      "memory usage: 4.0+ MB\n"
     ]
    }
   ],
   "source": [
    "top_songs.info()"
   ]
  },
  {
   "cell_type": "markdown",
   "metadata": {},
   "source": [
    "Osserviamo come è cambiata la colonna 'Release Date'"
   ]
  },
  {
   "cell_type": "code",
   "execution_count": 14,
   "metadata": {},
   "outputs": [
    {
     "data": {
      "text/html": [
       "<div>\n",
       "<style scoped>\n",
       "    .dataframe tbody tr th:only-of-type {\n",
       "        vertical-align: middle;\n",
       "    }\n",
       "\n",
       "    .dataframe tbody tr th {\n",
       "        vertical-align: top;\n",
       "    }\n",
       "\n",
       "    .dataframe thead th {\n",
       "        text-align: right;\n",
       "    }\n",
       "</style>\n",
       "<table border=\"1\" class=\"dataframe\">\n",
       "  <thead>\n",
       "    <tr style=\"text-align: right;\">\n",
       "      <th></th>\n",
       "      <th>Album Type</th>\n",
       "      <th>Artist ID</th>\n",
       "      <th>Artist Name</th>\n",
       "      <th>Artist Song Rank</th>\n",
       "      <th>Track Name</th>\n",
       "      <th>Is Playable</th>\n",
       "      <th>Album Name</th>\n",
       "      <th>Release Date</th>\n",
       "      <th>Total Album Tracks</th>\n",
       "      <th>Is Explicit</th>\n",
       "      <th>ISRC</th>\n",
       "      <th>Song Duration</th>\n",
       "      <th>Track Number</th>\n",
       "      <th>Popularity</th>\n",
       "      <th>Track Id</th>\n",
       "      <th>Track URI</th>\n",
       "    </tr>\n",
       "  </thead>\n",
       "  <tbody>\n",
       "    <tr>\n",
       "      <th>0</th>\n",
       "      <td>album</td>\n",
       "      <td>3TVXtAsR1Inumwj472S9r4</td>\n",
       "      <td>Drake</td>\n",
       "      <td>1</td>\n",
       "      <td>IDGAF (feat. Yeat)</td>\n",
       "      <td>True</td>\n",
       "      <td>For All The Dogs</td>\n",
       "      <td>2023-10-06 02:00:00+02:00</td>\n",
       "      <td>23</td>\n",
       "      <td>True</td>\n",
       "      <td>USUG12306072</td>\n",
       "      <td>260111</td>\n",
       "      <td>7</td>\n",
       "      <td>93</td>\n",
       "      <td>2YSzYUF3jWqb9YP9VXmpjE</td>\n",
       "      <td>spotify:track:2YSzYUF3jWqb9YP9VXmpjE</td>\n",
       "    </tr>\n",
       "    <tr>\n",
       "      <th>1</th>\n",
       "      <td>album</td>\n",
       "      <td>3TVXtAsR1Inumwj472S9r4</td>\n",
       "      <td>Drake</td>\n",
       "      <td>2</td>\n",
       "      <td>First Person Shooter (feat. J. Cole)</td>\n",
       "      <td>True</td>\n",
       "      <td>For All The Dogs</td>\n",
       "      <td>2023-10-06 02:00:00+02:00</td>\n",
       "      <td>23</td>\n",
       "      <td>True</td>\n",
       "      <td>USUG12306071</td>\n",
       "      <td>247444</td>\n",
       "      <td>6</td>\n",
       "      <td>91</td>\n",
       "      <td>7aqfrAY2p9BUSiupwk3svU</td>\n",
       "      <td>spotify:track:7aqfrAY2p9BUSiupwk3svU</td>\n",
       "    </tr>\n",
       "    <tr>\n",
       "      <th>2</th>\n",
       "      <td>album</td>\n",
       "      <td>3TVXtAsR1Inumwj472S9r4</td>\n",
       "      <td>Drake</td>\n",
       "      <td>3</td>\n",
       "      <td>Rich Baby Daddy (feat. Sexyy Red &amp; SZA)</td>\n",
       "      <td>True</td>\n",
       "      <td>For All The Dogs</td>\n",
       "      <td>2023-10-06 02:00:00+02:00</td>\n",
       "      <td>23</td>\n",
       "      <td>True</td>\n",
       "      <td>USUG12306085</td>\n",
       "      <td>319191</td>\n",
       "      <td>20</td>\n",
       "      <td>89</td>\n",
       "      <td>1yeB8MUNeLo9Ek1UEpsyz6</td>\n",
       "      <td>spotify:track:1yeB8MUNeLo9Ek1UEpsyz6</td>\n",
       "    </tr>\n",
       "    <tr>\n",
       "      <th>3</th>\n",
       "      <td>album</td>\n",
       "      <td>3TVXtAsR1Inumwj472S9r4</td>\n",
       "      <td>Drake</td>\n",
       "      <td>4</td>\n",
       "      <td>Jimmy Cooks (feat. 21 Savage)</td>\n",
       "      <td>True</td>\n",
       "      <td>Honestly, Nevermind</td>\n",
       "      <td>2022-06-17 02:00:00+02:00</td>\n",
       "      <td>14</td>\n",
       "      <td>True</td>\n",
       "      <td>USUG12204897</td>\n",
       "      <td>218364</td>\n",
       "      <td>14</td>\n",
       "      <td>89</td>\n",
       "      <td>3F5CgOj3wFlRv51JsHbxhe</td>\n",
       "      <td>spotify:track:3F5CgOj3wFlRv51JsHbxhe</td>\n",
       "    </tr>\n",
       "    <tr>\n",
       "      <th>4</th>\n",
       "      <td>album</td>\n",
       "      <td>3TVXtAsR1Inumwj472S9r4</td>\n",
       "      <td>Drake</td>\n",
       "      <td>5</td>\n",
       "      <td>One Dance</td>\n",
       "      <td>True</td>\n",
       "      <td>Views</td>\n",
       "      <td>2016-05-06 02:00:00+02:00</td>\n",
       "      <td>20</td>\n",
       "      <td>False</td>\n",
       "      <td>USCM51600028</td>\n",
       "      <td>173986</td>\n",
       "      <td>12</td>\n",
       "      <td>89</td>\n",
       "      <td>1zi7xx7UVEFkmKfv06H8x0</td>\n",
       "      <td>spotify:track:1zi7xx7UVEFkmKfv06H8x0</td>\n",
       "    </tr>\n",
       "  </tbody>\n",
       "</table>\n",
       "</div>"
      ],
      "text/plain": [
       "  Album Type               Artist ID Artist Name  Artist Song Rank  \\\n",
       "0      album  3TVXtAsR1Inumwj472S9r4       Drake                 1   \n",
       "1      album  3TVXtAsR1Inumwj472S9r4       Drake                 2   \n",
       "2      album  3TVXtAsR1Inumwj472S9r4       Drake                 3   \n",
       "3      album  3TVXtAsR1Inumwj472S9r4       Drake                 4   \n",
       "4      album  3TVXtAsR1Inumwj472S9r4       Drake                 5   \n",
       "\n",
       "                                Track Name  Is Playable           Album Name  \\\n",
       "0                       IDGAF (feat. Yeat)         True     For All The Dogs   \n",
       "1     First Person Shooter (feat. J. Cole)         True     For All The Dogs   \n",
       "2  Rich Baby Daddy (feat. Sexyy Red & SZA)         True     For All The Dogs   \n",
       "3            Jimmy Cooks (feat. 21 Savage)         True  Honestly, Nevermind   \n",
       "4                                One Dance         True                Views   \n",
       "\n",
       "               Release Date  Total Album Tracks  Is Explicit          ISRC  \\\n",
       "0 2023-10-06 02:00:00+02:00                  23         True  USUG12306072   \n",
       "1 2023-10-06 02:00:00+02:00                  23         True  USUG12306071   \n",
       "2 2023-10-06 02:00:00+02:00                  23         True  USUG12306085   \n",
       "3 2022-06-17 02:00:00+02:00                  14         True  USUG12204897   \n",
       "4 2016-05-06 02:00:00+02:00                  20        False  USCM51600028   \n",
       "\n",
       "   Song Duration  Track Number  Popularity                Track Id  \\\n",
       "0         260111             7          93  2YSzYUF3jWqb9YP9VXmpjE   \n",
       "1         247444             6          91  7aqfrAY2p9BUSiupwk3svU   \n",
       "2         319191            20          89  1yeB8MUNeLo9Ek1UEpsyz6   \n",
       "3         218364            14          89  3F5CgOj3wFlRv51JsHbxhe   \n",
       "4         173986            12          89  1zi7xx7UVEFkmKfv06H8x0   \n",
       "\n",
       "                              Track URI  \n",
       "0  spotify:track:2YSzYUF3jWqb9YP9VXmpjE  \n",
       "1  spotify:track:7aqfrAY2p9BUSiupwk3svU  \n",
       "2  spotify:track:1yeB8MUNeLo9Ek1UEpsyz6  \n",
       "3  spotify:track:3F5CgOj3wFlRv51JsHbxhe  \n",
       "4  spotify:track:1zi7xx7UVEFkmKfv06H8x0  "
      ]
     },
     "execution_count": 14,
     "metadata": {},
     "output_type": "execute_result"
    }
   ],
   "source": [
    "top_songs.head()"
   ]
  },
  {
   "cell_type": "markdown",
   "metadata": {},
   "source": [
    "-----------------------------------------------------------------------"
   ]
  },
  {
   "cell_type": "markdown",
   "metadata": {},
   "source": [
    "Controlliamo se i due file contengono valori duplicati utilizzando il metodo 'duplicated' e un check per verificare in caso dove sono collocati. Cominciamo con il primo file"
   ]
  },
  {
   "cell_type": "code",
   "execution_count": 6,
   "metadata": {},
   "outputs": [
    {
     "name": "stdout",
     "output_type": "stream",
     "text": [
      "Nessuna riga duplicata trovata\n"
     ]
    }
   ],
   "source": [
    "check = artisti.duplicated()\n",
    "\n",
    "if check.any():\n",
    "    duplicate_rows = artisti[check]\n",
    "    print(\"Righe duplicate trovate:\")\n",
    "    print(duplicate_rows)\n",
    "else:\n",
    "    print(\"Nessuna riga duplicata trovata\")"
   ]
  },
  {
   "cell_type": "markdown",
   "metadata": {},
   "source": [
    "Osserviamo che il file degli artisti non contiene valori duplicati. Analizziamo il secondo utilizzando lo stesso metodo e un check"
   ]
  },
  {
   "cell_type": "code",
   "execution_count": 7,
   "metadata": {},
   "outputs": [
    {
     "name": "stdout",
     "output_type": "stream",
     "text": [
      "Righe duplicate trovate:\n",
      "      Album Type               Artist ID Artist Name  Artist Song Rank  \\\n",
      "4034       album  3TVXtAsR1Inumwj472S9r4       Drake                 1   \n",
      "4035       album  3TVXtAsR1Inumwj472S9r4       Drake                 2   \n",
      "4036       album  3TVXtAsR1Inumwj472S9r4       Drake                 3   \n",
      "4037       album  3TVXtAsR1Inumwj472S9r4       Drake                 4   \n",
      "4038       album  3TVXtAsR1Inumwj472S9r4       Drake                 5   \n",
      "...          ...                     ...         ...               ...   \n",
      "37141      album  5LHRHt1k9lMyONurDHEdrp        Tyga                 6   \n",
      "37142      album  5LHRHt1k9lMyONurDHEdrp        Tyga                 7   \n",
      "37143      album  5LHRHt1k9lMyONurDHEdrp        Tyga                 8   \n",
      "37144     single  5LHRHt1k9lMyONurDHEdrp        Tyga                 9   \n",
      "37145     single  5LHRHt1k9lMyONurDHEdrp        Tyga                10   \n",
      "\n",
      "                                    Track Name  Is Playable  \\\n",
      "4034                        IDGAF (feat. Yeat)         True   \n",
      "4035      First Person Shooter (feat. J. Cole)         True   \n",
      "4036   Rich Baby Daddy (feat. Sexyy Red & SZA)         True   \n",
      "4037             Jimmy Cooks (feat. 21 Savage)         True   \n",
      "4038                                 One Dance         True   \n",
      "...                                        ...          ...   \n",
      "37141                                      Ayo         True   \n",
      "37142                                Rack City         True   \n",
      "37143                                    Juicy         True   \n",
      "37144                                 Sunshine         True   \n",
      "37145                             Ayy Macarena         True   \n",
      "\n",
      "                                      Album Name              Release Date  \\\n",
      "4034                            For All The Dogs 2023-10-06 02:00:00+02:00   \n",
      "4035                            For All The Dogs 2023-10-06 02:00:00+02:00   \n",
      "4036                            For All The Dogs 2023-10-06 02:00:00+02:00   \n",
      "4037                         Honestly, Nevermind 2022-06-17 02:00:00+02:00   \n",
      "4038                                       Views 2016-05-06 02:00:00+02:00   \n",
      "...                                          ...                       ...   \n",
      "37141  Fan of A Fan The Album (Expanded Edition) 2015-02-24 01:00:00+01:00   \n",
      "37142      Careless World: Rise Of The Last King 2012-01-01 01:00:00+01:00   \n",
      "37143                                   Hot Pink 2019-11-07 01:00:00+01:00   \n",
      "37144                                   Sunshine 2022-08-12 02:00:00+02:00   \n",
      "37145                               Ayy Macarena 2019-11-13 01:00:00+01:00   \n",
      "\n",
      "       Total Album Tracks  Is Explicit          ISRC  Song Duration  \\\n",
      "4034                   23         True  USUG12306072         260111   \n",
      "4035                   23         True  USUG12306071         247444   \n",
      "4036                   23         True  USUG12306085         319191   \n",
      "4037                   14         True  USUG12204897         218364   \n",
      "4038                   20        False  USCM51600028         173986   \n",
      "...                   ...          ...           ...            ...   \n",
      "37141                  16         True  USRC11403042         225226   \n",
      "37142                  21         True  USCM51200057         203200   \n",
      "37143                  12         True  USRC11901510         203093   \n",
      "37144                   1         True  USUYG1436663         188964   \n",
      "37145                   1         True  USQX91903309         131606   \n",
      "\n",
      "       Track Number  Popularity                Track Id  \\\n",
      "4034              7          93  2YSzYUF3jWqb9YP9VXmpjE   \n",
      "4035              6          91  7aqfrAY2p9BUSiupwk3svU   \n",
      "4036             20          89  1yeB8MUNeLo9Ek1UEpsyz6   \n",
      "4037             14          89  3F5CgOj3wFlRv51JsHbxhe   \n",
      "4038             12          89  1zi7xx7UVEFkmKfv06H8x0   \n",
      "...             ...         ...                     ...   \n",
      "37141             3          74  0k6DnZMLoEUH8NGD5zh2SE   \n",
      "37142            11          69  0srwKuJPH8yBzzFUJMBQM2   \n",
      "37143            12          72  7f5trao56t7sB7f14QDTmp   \n",
      "37144             1          71  54NBD72JXFXzrodbQBSzWh   \n",
      "37145             1          69  6LcauUZjF1eXQrgqMUecHX   \n",
      "\n",
      "                                  Track URI  \n",
      "4034   spotify:track:2YSzYUF3jWqb9YP9VXmpjE  \n",
      "4035   spotify:track:7aqfrAY2p9BUSiupwk3svU  \n",
      "4036   spotify:track:1yeB8MUNeLo9Ek1UEpsyz6  \n",
      "4037   spotify:track:3F5CgOj3wFlRv51JsHbxhe  \n",
      "4038   spotify:track:1zi7xx7UVEFkmKfv06H8x0  \n",
      "...                                     ...  \n",
      "37141  spotify:track:0k6DnZMLoEUH8NGD5zh2SE  \n",
      "37142  spotify:track:0srwKuJPH8yBzzFUJMBQM2  \n",
      "37143  spotify:track:7f5trao56t7sB7f14QDTmp  \n",
      "37144  spotify:track:54NBD72JXFXzrodbQBSzWh  \n",
      "37145  spotify:track:6LcauUZjF1eXQrgqMUecHX  \n",
      "\n",
      "[33109 rows x 16 columns]\n"
     ]
    }
   ],
   "source": [
    "check_2 = top_songs.duplicated()\n",
    "\n",
    "if check_2.any():\n",
    "    duplicate_rows_2 = top_songs[check_2]\n",
    "    print(\"Righe duplicate trovate:\")\n",
    "    print(duplicate_rows_2)\n",
    "else:\n",
    "    print(\"Nessuna riga duplicata trovata\")"
   ]
  },
  {
   "cell_type": "markdown",
   "metadata": {},
   "source": [
    "Dall'output ottenuto notiamo la presenza di diverse righe duplicate. Andiamo ad eliminarle utilizzando il metodo 'drop_duplicates' e salviamo il contenuto in una variabile."
   ]
  },
  {
   "cell_type": "markdown",
   "metadata": {},
   "source": [
    "Eliminare i valori duplicati può essere fondamentale per poter assicurare la precisione del dataset. I valori duplicati, o in questo caso le righe, possono distorcere le analisi statistiche e introdurre discrepanze, oltre a causare ripetizioni superflue e un maggior consumo di memoria."
   ]
  },
  {
   "cell_type": "code",
   "execution_count": 8,
   "metadata": {},
   "outputs": [],
   "source": [
    "top_songs_unique = top_songs.drop_duplicates(subset=['Artist ID', 'Track Id'])"
   ]
  },
  {
   "cell_type": "markdown",
   "metadata": {},
   "source": [
    "Verifichiamo che l'operazione precedente sia andata a buon fine utilizzando lo stesso metodo e il check"
   ]
  },
  {
   "cell_type": "code",
   "execution_count": 9,
   "metadata": {},
   "outputs": [
    {
     "name": "stdout",
     "output_type": "stream",
     "text": [
      "Nessuna riga duplicata trovata\n"
     ]
    }
   ],
   "source": [
    "check_unique = top_songs_unique.duplicated()\n",
    "\n",
    "if check_unique.any():\n",
    "    duplicate_rows_unique = top_songs_unique[check_unique]\n",
    "    print(\"Righe duplicate trovate:\")\n",
    "    print(duplicate_rows_unique)\n",
    "else:\n",
    "    print(\"Nessuna riga duplicata trovata\")"
   ]
  },
  {
   "cell_type": "markdown",
   "metadata": {},
   "source": [
    "Concludiamo la sezione dedicata alle operazioni preliminari e cominciamo l'analisi vera e propria del dataset"
   ]
  },
  {
   "cell_type": "markdown",
   "metadata": {},
   "source": [
    "------------------------------------------------------------------"
   ]
  },
  {
   "cell_type": "markdown",
   "metadata": {},
   "source": [
    "Per prima cosa, eseguiamo il merge dei due file tramite l'ID dell'artista, essendo un valore comune. Visto che la colonna relativa all'ID dell'artista presenta un nome diverso in ciascun file, utilizziamo i parametri 'left_on' e 'right_on' per specificare il nome corretto."
   ]
  },
  {
   "cell_type": "markdown",
   "metadata": {},
   "source": [
    "'ID' è il nome della colonna relativa all'ID dell'artista nel file degli artisti, mentre 'Artist ID' è il nome della medesima colonna ma all'interno del file delle top songs"
   ]
  },
  {
   "cell_type": "code",
   "execution_count": 10,
   "metadata": {},
   "outputs": [],
   "source": [
    "merged_dataset = pd.merge(artisti_no_nan, top_songs_unique, left_on='ID', right_on='Artist ID')"
   ]
  },
  {
   "cell_type": "markdown",
   "metadata": {},
   "source": [
    "Visualizziamo il contenuto del merge"
   ]
  },
  {
   "cell_type": "code",
   "execution_count": 20,
   "metadata": {},
   "outputs": [
    {
     "data": {
      "text/html": [
       "<div>\n",
       "<style scoped>\n",
       "    .dataframe tbody tr th:only-of-type {\n",
       "        vertical-align: middle;\n",
       "    }\n",
       "\n",
       "    .dataframe tbody tr th {\n",
       "        vertical-align: top;\n",
       "    }\n",
       "\n",
       "    .dataframe thead th {\n",
       "        text-align: right;\n",
       "    }\n",
       "</style>\n",
       "<table border=\"1\" class=\"dataframe\">\n",
       "  <thead>\n",
       "    <tr style=\"text-align: right;\">\n",
       "      <th></th>\n",
       "      <th>Name</th>\n",
       "      <th>ID</th>\n",
       "      <th>Gender</th>\n",
       "      <th>Age</th>\n",
       "      <th>Country</th>\n",
       "      <th>Genres</th>\n",
       "      <th>Popularity_x</th>\n",
       "      <th>Followers</th>\n",
       "      <th>URI</th>\n",
       "      <th>Album Type</th>\n",
       "      <th>...</th>\n",
       "      <th>Album Name</th>\n",
       "      <th>Release Date</th>\n",
       "      <th>Total Album Tracks</th>\n",
       "      <th>Is Explicit</th>\n",
       "      <th>ISRC</th>\n",
       "      <th>Song Duration</th>\n",
       "      <th>Track Number</th>\n",
       "      <th>Popularity_y</th>\n",
       "      <th>Track Id</th>\n",
       "      <th>Track URI</th>\n",
       "    </tr>\n",
       "  </thead>\n",
       "  <tbody>\n",
       "    <tr>\n",
       "      <th>0</th>\n",
       "      <td>Drake</td>\n",
       "      <td>3TVXtAsR1Inumwj472S9r4</td>\n",
       "      <td>male</td>\n",
       "      <td>33</td>\n",
       "      <td>CA</td>\n",
       "      <td>['canadian hip hop', 'canadian pop', 'hip hop'...</td>\n",
       "      <td>95</td>\n",
       "      <td>83298497</td>\n",
       "      <td>spotify:artist:3TVXtAsR1Inumwj472S9r4</td>\n",
       "      <td>album</td>\n",
       "      <td>...</td>\n",
       "      <td>For All The Dogs</td>\n",
       "      <td>2023-10-06 02:00:00+02:00</td>\n",
       "      <td>23</td>\n",
       "      <td>True</td>\n",
       "      <td>USUG12306072</td>\n",
       "      <td>260111</td>\n",
       "      <td>7</td>\n",
       "      <td>93</td>\n",
       "      <td>2YSzYUF3jWqb9YP9VXmpjE</td>\n",
       "      <td>spotify:track:2YSzYUF3jWqb9YP9VXmpjE</td>\n",
       "    </tr>\n",
       "    <tr>\n",
       "      <th>1</th>\n",
       "      <td>Drake</td>\n",
       "      <td>3TVXtAsR1Inumwj472S9r4</td>\n",
       "      <td>male</td>\n",
       "      <td>33</td>\n",
       "      <td>CA</td>\n",
       "      <td>['canadian hip hop', 'canadian pop', 'hip hop'...</td>\n",
       "      <td>95</td>\n",
       "      <td>83298497</td>\n",
       "      <td>spotify:artist:3TVXtAsR1Inumwj472S9r4</td>\n",
       "      <td>album</td>\n",
       "      <td>...</td>\n",
       "      <td>For All The Dogs</td>\n",
       "      <td>2023-10-06 02:00:00+02:00</td>\n",
       "      <td>23</td>\n",
       "      <td>True</td>\n",
       "      <td>USUG12306071</td>\n",
       "      <td>247444</td>\n",
       "      <td>6</td>\n",
       "      <td>91</td>\n",
       "      <td>7aqfrAY2p9BUSiupwk3svU</td>\n",
       "      <td>spotify:track:7aqfrAY2p9BUSiupwk3svU</td>\n",
       "    </tr>\n",
       "    <tr>\n",
       "      <th>2</th>\n",
       "      <td>Drake</td>\n",
       "      <td>3TVXtAsR1Inumwj472S9r4</td>\n",
       "      <td>male</td>\n",
       "      <td>33</td>\n",
       "      <td>CA</td>\n",
       "      <td>['canadian hip hop', 'canadian pop', 'hip hop'...</td>\n",
       "      <td>95</td>\n",
       "      <td>83298497</td>\n",
       "      <td>spotify:artist:3TVXtAsR1Inumwj472S9r4</td>\n",
       "      <td>album</td>\n",
       "      <td>...</td>\n",
       "      <td>For All The Dogs</td>\n",
       "      <td>2023-10-06 02:00:00+02:00</td>\n",
       "      <td>23</td>\n",
       "      <td>True</td>\n",
       "      <td>USUG12306085</td>\n",
       "      <td>319191</td>\n",
       "      <td>20</td>\n",
       "      <td>89</td>\n",
       "      <td>1yeB8MUNeLo9Ek1UEpsyz6</td>\n",
       "      <td>spotify:track:1yeB8MUNeLo9Ek1UEpsyz6</td>\n",
       "    </tr>\n",
       "    <tr>\n",
       "      <th>3</th>\n",
       "      <td>Drake</td>\n",
       "      <td>3TVXtAsR1Inumwj472S9r4</td>\n",
       "      <td>male</td>\n",
       "      <td>33</td>\n",
       "      <td>CA</td>\n",
       "      <td>['canadian hip hop', 'canadian pop', 'hip hop'...</td>\n",
       "      <td>95</td>\n",
       "      <td>83298497</td>\n",
       "      <td>spotify:artist:3TVXtAsR1Inumwj472S9r4</td>\n",
       "      <td>album</td>\n",
       "      <td>...</td>\n",
       "      <td>Honestly, Nevermind</td>\n",
       "      <td>2022-06-17 02:00:00+02:00</td>\n",
       "      <td>14</td>\n",
       "      <td>True</td>\n",
       "      <td>USUG12204897</td>\n",
       "      <td>218364</td>\n",
       "      <td>14</td>\n",
       "      <td>89</td>\n",
       "      <td>3F5CgOj3wFlRv51JsHbxhe</td>\n",
       "      <td>spotify:track:3F5CgOj3wFlRv51JsHbxhe</td>\n",
       "    </tr>\n",
       "    <tr>\n",
       "      <th>4</th>\n",
       "      <td>Drake</td>\n",
       "      <td>3TVXtAsR1Inumwj472S9r4</td>\n",
       "      <td>male</td>\n",
       "      <td>33</td>\n",
       "      <td>CA</td>\n",
       "      <td>['canadian hip hop', 'canadian pop', 'hip hop'...</td>\n",
       "      <td>95</td>\n",
       "      <td>83298497</td>\n",
       "      <td>spotify:artist:3TVXtAsR1Inumwj472S9r4</td>\n",
       "      <td>album</td>\n",
       "      <td>...</td>\n",
       "      <td>Views</td>\n",
       "      <td>2016-05-06 02:00:00+02:00</td>\n",
       "      <td>20</td>\n",
       "      <td>False</td>\n",
       "      <td>USCM51600028</td>\n",
       "      <td>173986</td>\n",
       "      <td>12</td>\n",
       "      <td>89</td>\n",
       "      <td>1zi7xx7UVEFkmKfv06H8x0</td>\n",
       "      <td>spotify:track:1zi7xx7UVEFkmKfv06H8x0</td>\n",
       "    </tr>\n",
       "    <tr>\n",
       "      <th>...</th>\n",
       "      <td>...</td>\n",
       "      <td>...</td>\n",
       "      <td>...</td>\n",
       "      <td>...</td>\n",
       "      <td>...</td>\n",
       "      <td>...</td>\n",
       "      <td>...</td>\n",
       "      <td>...</td>\n",
       "      <td>...</td>\n",
       "      <td>...</td>\n",
       "      <td>...</td>\n",
       "      <td>...</td>\n",
       "      <td>...</td>\n",
       "      <td>...</td>\n",
       "      <td>...</td>\n",
       "      <td>...</td>\n",
       "      <td>...</td>\n",
       "      <td>...</td>\n",
       "      <td>...</td>\n",
       "      <td>...</td>\n",
       "      <td>...</td>\n",
       "    </tr>\n",
       "    <tr>\n",
       "      <th>3523</th>\n",
       "      <td>Gillian Welch</td>\n",
       "      <td>2H5elA2mJKrHmqkN9GSfkz</td>\n",
       "      <td>male</td>\n",
       "      <td>28</td>\n",
       "      <td>DK</td>\n",
       "      <td>['alternative country', 'canadian singer-songw...</td>\n",
       "      <td>47</td>\n",
       "      <td>220293</td>\n",
       "      <td>spotify:artist:2H5elA2mJKrHmqkN9GSfkz</td>\n",
       "      <td>album</td>\n",
       "      <td>...</td>\n",
       "      <td>The Harrow &amp; The Harvest</td>\n",
       "      <td>2011-06-28 02:00:00+02:00</td>\n",
       "      <td>10</td>\n",
       "      <td>False</td>\n",
       "      <td>US2AR1110904</td>\n",
       "      <td>241957</td>\n",
       "      <td>4</td>\n",
       "      <td>42</td>\n",
       "      <td>6jx8L9ng94zKcw4xbbQFjC</td>\n",
       "      <td>spotify:track:6jx8L9ng94zKcw4xbbQFjC</td>\n",
       "    </tr>\n",
       "    <tr>\n",
       "      <th>3524</th>\n",
       "      <td>Gillian Welch</td>\n",
       "      <td>2H5elA2mJKrHmqkN9GSfkz</td>\n",
       "      <td>male</td>\n",
       "      <td>28</td>\n",
       "      <td>DK</td>\n",
       "      <td>['alternative country', 'canadian singer-songw...</td>\n",
       "      <td>47</td>\n",
       "      <td>220293</td>\n",
       "      <td>spotify:artist:2H5elA2mJKrHmqkN9GSfkz</td>\n",
       "      <td>album</td>\n",
       "      <td>...</td>\n",
       "      <td>Revival</td>\n",
       "      <td>1996-04-09 02:00:00+02:00</td>\n",
       "      <td>10</td>\n",
       "      <td>False</td>\n",
       "      <td>USAL19600602</td>\n",
       "      <td>243866</td>\n",
       "      <td>2</td>\n",
       "      <td>40</td>\n",
       "      <td>3ZtC9ZDhPJj0E043tmlOgx</td>\n",
       "      <td>spotify:track:3ZtC9ZDhPJj0E043tmlOgx</td>\n",
       "    </tr>\n",
       "    <tr>\n",
       "      <th>3525</th>\n",
       "      <td>Gillian Welch</td>\n",
       "      <td>2H5elA2mJKrHmqkN9GSfkz</td>\n",
       "      <td>male</td>\n",
       "      <td>28</td>\n",
       "      <td>DK</td>\n",
       "      <td>['alternative country', 'canadian singer-songw...</td>\n",
       "      <td>47</td>\n",
       "      <td>220293</td>\n",
       "      <td>spotify:artist:2H5elA2mJKrHmqkN9GSfkz</td>\n",
       "      <td>album</td>\n",
       "      <td>...</td>\n",
       "      <td>Boots No. 1: The Official Revival Bootleg</td>\n",
       "      <td>2016-11-25 01:00:00+01:00</td>\n",
       "      <td>21</td>\n",
       "      <td>False</td>\n",
       "      <td>US2AR1660117</td>\n",
       "      <td>175083</td>\n",
       "      <td>7</td>\n",
       "      <td>40</td>\n",
       "      <td>0ddo16GDbp9RoNzT285C4R</td>\n",
       "      <td>spotify:track:0ddo16GDbp9RoNzT285C4R</td>\n",
       "    </tr>\n",
       "    <tr>\n",
       "      <th>3526</th>\n",
       "      <td>Gillian Welch</td>\n",
       "      <td>2H5elA2mJKrHmqkN9GSfkz</td>\n",
       "      <td>male</td>\n",
       "      <td>28</td>\n",
       "      <td>DK</td>\n",
       "      <td>['alternative country', 'canadian singer-songw...</td>\n",
       "      <td>47</td>\n",
       "      <td>220293</td>\n",
       "      <td>spotify:artist:2H5elA2mJKrHmqkN9GSfkz</td>\n",
       "      <td>album</td>\n",
       "      <td>...</td>\n",
       "      <td>Time (The Revelator)</td>\n",
       "      <td>2001-07-31 02:00:00+02:00</td>\n",
       "      <td>10</td>\n",
       "      <td>False</td>\n",
       "      <td>US2AR0110301</td>\n",
       "      <td>382560</td>\n",
       "      <td>1</td>\n",
       "      <td>39</td>\n",
       "      <td>4Ui86NRu1aoBGRUJyPusp6</td>\n",
       "      <td>spotify:track:4Ui86NRu1aoBGRUJyPusp6</td>\n",
       "    </tr>\n",
       "    <tr>\n",
       "      <th>3527</th>\n",
       "      <td>Gillian Welch</td>\n",
       "      <td>2H5elA2mJKrHmqkN9GSfkz</td>\n",
       "      <td>male</td>\n",
       "      <td>28</td>\n",
       "      <td>DK</td>\n",
       "      <td>['alternative country', 'canadian singer-songw...</td>\n",
       "      <td>47</td>\n",
       "      <td>220293</td>\n",
       "      <td>spotify:artist:2H5elA2mJKrHmqkN9GSfkz</td>\n",
       "      <td>album</td>\n",
       "      <td>...</td>\n",
       "      <td>The Harrow &amp; The Harvest</td>\n",
       "      <td>2011-06-28 02:00:00+02:00</td>\n",
       "      <td>10</td>\n",
       "      <td>False</td>\n",
       "      <td>US2AR1110908</td>\n",
       "      <td>292160</td>\n",
       "      <td>8</td>\n",
       "      <td>39</td>\n",
       "      <td>3FJ46AfhOr2TyfhVTlK1sj</td>\n",
       "      <td>spotify:track:3FJ46AfhOr2TyfhVTlK1sj</td>\n",
       "    </tr>\n",
       "  </tbody>\n",
       "</table>\n",
       "<p>3528 rows × 25 columns</p>\n",
       "</div>"
      ],
      "text/plain": [
       "               Name                      ID Gender  Age Country  \\\n",
       "0             Drake  3TVXtAsR1Inumwj472S9r4   male   33      CA   \n",
       "1             Drake  3TVXtAsR1Inumwj472S9r4   male   33      CA   \n",
       "2             Drake  3TVXtAsR1Inumwj472S9r4   male   33      CA   \n",
       "3             Drake  3TVXtAsR1Inumwj472S9r4   male   33      CA   \n",
       "4             Drake  3TVXtAsR1Inumwj472S9r4   male   33      CA   \n",
       "...             ...                     ...    ...  ...     ...   \n",
       "3523  Gillian Welch  2H5elA2mJKrHmqkN9GSfkz   male   28      DK   \n",
       "3524  Gillian Welch  2H5elA2mJKrHmqkN9GSfkz   male   28      DK   \n",
       "3525  Gillian Welch  2H5elA2mJKrHmqkN9GSfkz   male   28      DK   \n",
       "3526  Gillian Welch  2H5elA2mJKrHmqkN9GSfkz   male   28      DK   \n",
       "3527  Gillian Welch  2H5elA2mJKrHmqkN9GSfkz   male   28      DK   \n",
       "\n",
       "                                                 Genres  Popularity_x  \\\n",
       "0     ['canadian hip hop', 'canadian pop', 'hip hop'...            95   \n",
       "1     ['canadian hip hop', 'canadian pop', 'hip hop'...            95   \n",
       "2     ['canadian hip hop', 'canadian pop', 'hip hop'...            95   \n",
       "3     ['canadian hip hop', 'canadian pop', 'hip hop'...            95   \n",
       "4     ['canadian hip hop', 'canadian pop', 'hip hop'...            95   \n",
       "...                                                 ...           ...   \n",
       "3523  ['alternative country', 'canadian singer-songw...            47   \n",
       "3524  ['alternative country', 'canadian singer-songw...            47   \n",
       "3525  ['alternative country', 'canadian singer-songw...            47   \n",
       "3526  ['alternative country', 'canadian singer-songw...            47   \n",
       "3527  ['alternative country', 'canadian singer-songw...            47   \n",
       "\n",
       "      Followers                                    URI Album Type  ...  \\\n",
       "0      83298497  spotify:artist:3TVXtAsR1Inumwj472S9r4      album  ...   \n",
       "1      83298497  spotify:artist:3TVXtAsR1Inumwj472S9r4      album  ...   \n",
       "2      83298497  spotify:artist:3TVXtAsR1Inumwj472S9r4      album  ...   \n",
       "3      83298497  spotify:artist:3TVXtAsR1Inumwj472S9r4      album  ...   \n",
       "4      83298497  spotify:artist:3TVXtAsR1Inumwj472S9r4      album  ...   \n",
       "...         ...                                    ...        ...  ...   \n",
       "3523     220293  spotify:artist:2H5elA2mJKrHmqkN9GSfkz      album  ...   \n",
       "3524     220293  spotify:artist:2H5elA2mJKrHmqkN9GSfkz      album  ...   \n",
       "3525     220293  spotify:artist:2H5elA2mJKrHmqkN9GSfkz      album  ...   \n",
       "3526     220293  spotify:artist:2H5elA2mJKrHmqkN9GSfkz      album  ...   \n",
       "3527     220293  spotify:artist:2H5elA2mJKrHmqkN9GSfkz      album  ...   \n",
       "\n",
       "                                     Album Name              Release Date  \\\n",
       "0                              For All The Dogs 2023-10-06 02:00:00+02:00   \n",
       "1                              For All The Dogs 2023-10-06 02:00:00+02:00   \n",
       "2                              For All The Dogs 2023-10-06 02:00:00+02:00   \n",
       "3                           Honestly, Nevermind 2022-06-17 02:00:00+02:00   \n",
       "4                                         Views 2016-05-06 02:00:00+02:00   \n",
       "...                                         ...                       ...   \n",
       "3523                   The Harrow & The Harvest 2011-06-28 02:00:00+02:00   \n",
       "3524                                    Revival 1996-04-09 02:00:00+02:00   \n",
       "3525  Boots No. 1: The Official Revival Bootleg 2016-11-25 01:00:00+01:00   \n",
       "3526                       Time (The Revelator) 2001-07-31 02:00:00+02:00   \n",
       "3527                   The Harrow & The Harvest 2011-06-28 02:00:00+02:00   \n",
       "\n",
       "      Total Album Tracks Is Explicit          ISRC Song Duration Track Number  \\\n",
       "0                     23        True  USUG12306072        260111            7   \n",
       "1                     23        True  USUG12306071        247444            6   \n",
       "2                     23        True  USUG12306085        319191           20   \n",
       "3                     14        True  USUG12204897        218364           14   \n",
       "4                     20       False  USCM51600028        173986           12   \n",
       "...                  ...         ...           ...           ...          ...   \n",
       "3523                  10       False  US2AR1110904        241957            4   \n",
       "3524                  10       False  USAL19600602        243866            2   \n",
       "3525                  21       False  US2AR1660117        175083            7   \n",
       "3526                  10       False  US2AR0110301        382560            1   \n",
       "3527                  10       False  US2AR1110908        292160            8   \n",
       "\n",
       "      Popularity_y                Track Id  \\\n",
       "0               93  2YSzYUF3jWqb9YP9VXmpjE   \n",
       "1               91  7aqfrAY2p9BUSiupwk3svU   \n",
       "2               89  1yeB8MUNeLo9Ek1UEpsyz6   \n",
       "3               89  3F5CgOj3wFlRv51JsHbxhe   \n",
       "4               89  1zi7xx7UVEFkmKfv06H8x0   \n",
       "...            ...                     ...   \n",
       "3523            42  6jx8L9ng94zKcw4xbbQFjC   \n",
       "3524            40  3ZtC9ZDhPJj0E043tmlOgx   \n",
       "3525            40  0ddo16GDbp9RoNzT285C4R   \n",
       "3526            39  4Ui86NRu1aoBGRUJyPusp6   \n",
       "3527            39  3FJ46AfhOr2TyfhVTlK1sj   \n",
       "\n",
       "                                 Track URI  \n",
       "0     spotify:track:2YSzYUF3jWqb9YP9VXmpjE  \n",
       "1     spotify:track:7aqfrAY2p9BUSiupwk3svU  \n",
       "2     spotify:track:1yeB8MUNeLo9Ek1UEpsyz6  \n",
       "3     spotify:track:3F5CgOj3wFlRv51JsHbxhe  \n",
       "4     spotify:track:1zi7xx7UVEFkmKfv06H8x0  \n",
       "...                                    ...  \n",
       "3523  spotify:track:6jx8L9ng94zKcw4xbbQFjC  \n",
       "3524  spotify:track:3ZtC9ZDhPJj0E043tmlOgx  \n",
       "3525  spotify:track:0ddo16GDbp9RoNzT285C4R  \n",
       "3526  spotify:track:4Ui86NRu1aoBGRUJyPusp6  \n",
       "3527  spotify:track:3FJ46AfhOr2TyfhVTlK1sj  \n",
       "\n",
       "[3528 rows x 25 columns]"
      ]
     },
     "execution_count": 20,
     "metadata": {},
     "output_type": "execute_result"
    }
   ],
   "source": [
    "merged_dataset"
   ]
  },
  {
   "cell_type": "markdown",
   "metadata": {},
   "source": [
    "Dall'output ottenuto notiamo che la colonna 'Popularity' ha assunto 2 nomi diversi per poter essere identificata correttamente. Visto che questa colonna presenta lo stesso nome in entrambi i file ma assume diversi valori e significati, sono stati aggiunti dei suffissi per poterle distinguere. \n",
    "La colonna 'Popularity_x' fa riferimento alla popolarità degli artisti del primo file, mentre la seconda colonna, chiamata 'Popularity_y', fa riferimento alla popolarità delle canzoni per ciascun artista del secondo file."
   ]
  },
  {
   "cell_type": "markdown",
   "metadata": {},
   "source": [
    "Di seguito creiamo un file csv contenente il merge dei due file 'artisti' e 'top_songs' per poter osservare più chiaramente il contenuto in un unico file. \n",
    "Essendo l'unione del file 'artisti' che non presenta valori null e del file 'top songs' privo di duplicati, questo merge non contiene valori Nan e valori duplicati. "
   ]
  },
  {
   "cell_type": "markdown",
   "metadata": {},
   "source": [
    "Utilizziamo il metodo 'to_csv'"
   ]
  },
  {
   "cell_type": "code",
   "execution_count": 22,
   "metadata": {},
   "outputs": [],
   "source": [
    "merged_dataset.to_csv('Merge.csv', index=False)"
   ]
  },
  {
   "cell_type": "markdown",
   "metadata": {},
   "source": [
    "Iniziamo l'analisi del dataset identificando il genere musicale più popolare."
   ]
  },
  {
   "cell_type": "markdown",
   "metadata": {},
   "source": [
    "Per prima cosa, identifichiamo quale genere musicale degli artisti è il più famoso.\n",
    "Dunque, raggruppiamo per genere ed eseguiamo la somma della popolarità per ciascun genere"
   ]
  },
  {
   "cell_type": "code",
   "execution_count": 11,
   "metadata": {},
   "outputs": [],
   "source": [
    "# popolarità dell'artista 'Popularity_x'\n",
    "\n",
    "artist_popularity = merged_dataset.groupby('Genres')['Popularity_x'].sum()"
   ]
  },
  {
   "cell_type": "markdown",
   "metadata": {},
   "source": [
    "Di seguito, identifichiamo quale genere musicale delle canzoni è il più famoso. Dunque, raggruppiamo per genere ed eseguiamo la somma della popolarità per ciascun genere"
   ]
  },
  {
   "cell_type": "code",
   "execution_count": 12,
   "metadata": {},
   "outputs": [],
   "source": [
    "# popolarità delle canzoni 'Popularity_y'\n",
    "\n",
    "song_popularity = merged_dataset.groupby('Genres')['Popularity_y'].sum()"
   ]
  },
  {
   "cell_type": "markdown",
   "metadata": {},
   "source": [
    "Visualizziamo i risultati che salviamo dentro a delle variabili. Utilizziamo il metodo 'idxmax' che riporta la label della riga del valore massimo."
   ]
  },
  {
   "cell_type": "code",
   "execution_count": 13,
   "metadata": {},
   "outputs": [
    {
     "data": {
      "text/plain": [
       "\"['pop']\""
      ]
     },
     "execution_count": 13,
     "metadata": {},
     "output_type": "execute_result"
    }
   ],
   "source": [
    "# visualizziamo il genere dell'artista più ascoltato/popolare\n",
    "most_listened_artist_genre = artist_popularity.idxmax()\n",
    "most_listened_artist_genre"
   ]
  },
  {
   "cell_type": "code",
   "execution_count": 14,
   "metadata": {},
   "outputs": [
    {
     "data": {
      "text/plain": [
       "\"['pop']\""
      ]
     },
     "execution_count": 14,
     "metadata": {},
     "output_type": "execute_result"
    }
   ],
   "source": [
    "# visualizziamo il genere delle canzoni più ascoltate/popolari\n",
    "most_listened_song_genre = song_popularity.idxmax()\n",
    "most_listened_song_genre"
   ]
  },
  {
   "cell_type": "markdown",
   "metadata": {},
   "source": [
    "Osserviamo dunque che il genere più popolare è il pop, sia per quanto riguarda gli artisti che le canzoni. Ma è sempre stato così? Il pop è sempre stato il genere musicale più famoso? Lo analizzeremo più avanti. Vediamo ora nel dettaglio gli artisti più popolari e di quali generi musicali fanno parte, per osservare se insieme al popo sono presenti altri generi famosi."
   ]
  },
  {
   "cell_type": "markdown",
   "metadata": {},
   "source": [
    "Analizziamo ora l'artista più famoso"
   ]
  },
  {
   "cell_type": "code",
   "execution_count": 15,
   "metadata": {},
   "outputs": [
    {
     "data": {
      "text/plain": [
       "('06HL4z0CvFAxyc27GXpf02', 'Taylor Swift', 'female', \"['pop']\")"
      ]
     },
     "execution_count": 15,
     "metadata": {},
     "output_type": "execute_result"
    }
   ],
   "source": [
    "popolarità_artista = merged_dataset.groupby(['ID', 'Name', 'Gender', 'Genres'])['Popularity_x'].sum()\n",
    "\n",
    "most_popular_artist = popolarità_artista.idxmax()\n",
    "most_popular_artist"
   ]
  },
  {
   "cell_type": "markdown",
   "metadata": {},
   "source": [
    "Dall'output ottenuto vediamo Taylor Swift come artista più popolare. Chi altro presenta una popolarità elevata? "
   ]
  },
  {
   "cell_type": "code",
   "execution_count": 28,
   "metadata": {},
   "outputs": [
    {
     "data": {
      "text/plain": [
       "ID                      Name          Gender  Genres                                                           \n",
       "06HL4z0CvFAxyc27GXpf02  Taylor Swift  female  ['pop']                                                              1000\n",
       "3TVXtAsR1Inumwj472S9r4  Drake         male    ['canadian hip hop', 'canadian pop', 'hip hop', 'pop rap', 'rap']     950\n",
       "4q3ewBCX7sLwd24euuV69X  Bad Bunny     male    ['reggaeton', 'trap latino', 'urbano latino']                         950\n",
       "1Xyo4u8uXC1ZmMpatF05PJ  The Weeknd    male    ['canadian contemporary r&b', 'canadian pop', 'pop']                  930\n",
       "0Y5tJX1MQlPlqiwlOH1tJY  Travis Scott  male    ['hip hop', 'rap', 'slap house']                                      900\n",
       "Name: Popularity_x, dtype: int64"
      ]
     },
     "execution_count": 28,
     "metadata": {},
     "output_type": "execute_result"
    }
   ],
   "source": [
    "# ora osserviamo la top 5 artisti più famosi\n",
    "top_5_artists = popolarità_artista.nlargest(5)\n",
    "top_5_artists"
   ]
  },
  {
   "cell_type": "markdown",
   "metadata": {},
   "source": [
    "Ampliamo ulteriormente l'output"
   ]
  },
  {
   "cell_type": "code",
   "execution_count": 29,
   "metadata": {},
   "outputs": [
    {
     "data": {
      "text/plain": [
       "ID                      Name           Gender  Genres                                                                                                 \n",
       "06HL4z0CvFAxyc27GXpf02  Taylor Swift   female  ['pop']                                                                                                    1000\n",
       "3TVXtAsR1Inumwj472S9r4  Drake          male    ['canadian hip hop', 'canadian pop', 'hip hop', 'pop rap', 'rap']                                           950\n",
       "4q3ewBCX7sLwd24euuV69X  Bad Bunny      male    ['reggaeton', 'trap latino', 'urbano latino']                                                               950\n",
       "1Xyo4u8uXC1ZmMpatF05PJ  The Weeknd     male    ['canadian contemporary r&b', 'canadian pop', 'pop']                                                        930\n",
       "0Y5tJX1MQlPlqiwlOH1tJY  Travis Scott   male    ['hip hop', 'rap', 'slap house']                                                                            900\n",
       "00FQb4jTyendYWaN8pK0wa  Lana Del Rey   female  ['art pop', 'pop']                                                                                          890\n",
       "2LRoIwlKmHjgvigdNGBHNo  Feid           male    ['colombian pop', 'pop reggaeton', 'reggaeton', 'reggaeton colombiano', 'trap latino', 'urbano latino']     890\n",
       "1URnnhqYAYcrqrcwql10ft  21 Savage      male    ['atl hip hop', 'hip hop', 'rap']                                                                           880\n",
       "1uNFoZAHBGtllmzznpCI3s  Justin Bieber  male    ['canadian pop', 'pop']                                                                                     880\n",
       "66CXWjxzNUsdJxJ2JdwvnR  Ariana Grande  female  ['pop']                                                                                                     880\n",
       "Name: Popularity_x, dtype: int64"
      ]
     },
     "execution_count": 29,
     "metadata": {},
     "output_type": "execute_result"
    }
   ],
   "source": [
    "top_10_with_genre = popolarità_artista.nlargest(10)\n",
    "top_10_with_genre"
   ]
  },
  {
   "cell_type": "markdown",
   "metadata": {},
   "source": [
    "Da questa analisi vediamo che, oltre al pop, i generi che compaiono più volte sono 'hip hop' e 'rap', insieme ai loro sotto generi (e.g 'atl hip hop')"
   ]
  },
  {
   "cell_type": "markdown",
   "metadata": {},
   "source": [
    "Possiamo concludere che, in generale, quelli citati sono i generi musicali ai quali appartengono gli artisti più popolari. Deduciamo dunque che, conseguentemente, questi generi sono i più famosi. È sempre stato così? Se dovessimo analizzare uno specifico arco temporale, troveremo lo stesso risultato? Oppure potremmo trovare dei periodi di tempo in cui questi generi musicali (o gli artisti stessi) non erano poi così famosi? "
   ]
  },
  {
   "cell_type": "markdown",
   "metadata": {},
   "source": [
    "-----------------------------------------------------------------------------------------------------------------------------"
   ]
  },
  {
   "cell_type": "markdown",
   "metadata": {},
   "source": [
    "Cominciamo con l'osservare i vari periodi di tempo per poter avere una panoramica generale di come si sono evoluti i rilasci delle canzoni nel corso del tempo."
   ]
  },
  {
   "cell_type": "markdown",
   "metadata": {},
   "source": [
    "Osserviamo le canzoni rilasciate in ciascun anno per ottenere un totale. Partiamo con il creare una nuova colonna nel file 'top songs' chiamata 'Release Year' per poter estrarre l'anno dalla data di rilascio completa di ciascuna canzone."
   ]
  },
  {
   "cell_type": "code",
   "execution_count": 16,
   "metadata": {},
   "outputs": [
    {
     "name": "stderr",
     "output_type": "stream",
     "text": [
      "C:\\Users\\User\\AppData\\Local\\Temp\\ipykernel_20860\\783290743.py:1: SettingWithCopyWarning: \n",
      "A value is trying to be set on a copy of a slice from a DataFrame.\n",
      "Try using .loc[row_indexer,col_indexer] = value instead\n",
      "\n",
      "See the caveats in the documentation: https://pandas.pydata.org/pandas-docs/stable/user_guide/indexing.html#returning-a-view-versus-a-copy\n",
      "  top_songs_unique['Release Year'] = top_songs_unique['Release Date'].dt.year #estraiamo l'anno dalla data di rilascio delle canzoni\n"
     ]
    }
   ],
   "source": [
    "top_songs_unique['Release Year'] = top_songs_unique['Release Date'].dt.year"
   ]
  },
  {
   "cell_type": "markdown",
   "metadata": {},
   "source": [
    "Visualizziamo la lista di ciascun anno presente nel dataset e il numero di canzoni rilasciate in quel determinato anno"
   ]
  },
  {
   "cell_type": "code",
   "execution_count": 28,
   "metadata": {},
   "outputs": [
    {
     "data": {
      "text/plain": [
       "Release Year\n",
       "1964      3\n",
       "1965      2\n",
       "1966      3\n",
       "1967      1\n",
       "1969      1\n",
       "1974      1\n",
       "1975      1\n",
       "1976      1\n",
       "1977      2\n",
       "1978      1\n",
       "1979      1\n",
       "1980      3\n",
       "1982      1\n",
       "1984      2\n",
       "1987      1\n",
       "1988      3\n",
       "1990      1\n",
       "1991      1\n",
       "1992      1\n",
       "1993      2\n",
       "1994      9\n",
       "1995      6\n",
       "1996      1\n",
       "1997      4\n",
       "1998      1\n",
       "1999      7\n",
       "2000      6\n",
       "2001     17\n",
       "2002     15\n",
       "2003      7\n",
       "2004      9\n",
       "2005     20\n",
       "2006     11\n",
       "2007     23\n",
       "2008     26\n",
       "2009     27\n",
       "2010     48\n",
       "2011     51\n",
       "2012     66\n",
       "2013    102\n",
       "2014    111\n",
       "2015    173\n",
       "2016    210\n",
       "2017    324\n",
       "2018    424\n",
       "2019    454\n",
       "2020    346\n",
       "2021    303\n",
       "2022    387\n",
       "2023    814\n",
       "dtype: int64"
      ]
     },
     "execution_count": 28,
     "metadata": {},
     "output_type": "execute_result"
    }
   ],
   "source": [
    "canzoni_per_anno = top_songs_unique.groupby('Release Year').size()\n",
    "canzoni_per_anno"
   ]
  },
  {
   "cell_type": "markdown",
   "metadata": {},
   "source": [
    "Dall'output ottenuto notiamo che mancano alcuni anni, come per esempio il 1968, il 1970 e molti altri. Ma nonostante questo, osserviamo che prima dell'anno 2001, il totale di canzoni rilasciate non supera il valore 10. Con l'arrivo degli anni 2000, il numero di canzoni rilasciate per anno è leggermente aumentato, fino ad arrivare all'anno 2023 che presenta il valore maggiore."
   ]
  },
  {
   "cell_type": "markdown",
   "metadata": {},
   "source": [
    "Utilizziamo un grafico per poter osservare più chiaramente l'output ottenuto in precedenza."
   ]
  },
  {
   "cell_type": "code",
   "execution_count": 29,
   "metadata": {},
   "outputs": [
    {
     "data": {
      "image/png": "[encoded data removed]",
      "text/plain": [
       "<Figure size 1500x600 with 1 Axes>"
      ]
     },
     "metadata": {},
     "output_type": "display_data"
    }
   ],
   "source": [
    "plt.figure(figsize=(15,6))\n",
    "plt.plot(canzoni_per_anno.index, canzoni_per_anno, marker='o')\n",
    "plt.title('Numero totale di canzoni uscite in ciascun anno')\n",
    "plt.xlabel('Anno')\n",
    "plt.ylabel('Numero di canzoni')\n",
    "\n",
    "plt.xticks(rotation=45, ha='right') # ha = horizontal alignment\n",
    "plt.xticks(canzoni_per_anno.index)\n",
    "\n",
    "plt.gca().set_ylim(bottom=0) # gca = get current axes. Usato per utilizzare metodi custom. Utilizzo di set_ylim per settare un limite all'asse y\n",
    "\n",
    "plt.grid(True)\n",
    "\n",
    "plt.show()"
   ]
  },
  {
   "cell_type": "markdown",
   "metadata": {},
   "source": [
    "Da questa analisi possiamo osservare dei periodi di tempo in cui il numero di canzoni rilasciate è aumentato e diminuito subito dopo. Notiamo poi un arco di tempo che va dall'anno 2009 al 2019 in cui i rilasci di canzoni sono solo aumentati, per poi diminuire nel 2020 e nel 2021, e risalire nuovamente negli ultimi due anni. L'ultimo anno, ossia il 2023, è l'anno con maggiori rilasci di canzoni. "
   ]
  },
  {
   "cell_type": "markdown",
   "metadata": {},
   "source": [
    "-------------------------------------------------------------------------------------------------------"
   ]
  },
  {
   "cell_type": "markdown",
   "metadata": {},
   "source": [
    "A questo punto, analizziamo ciascun decennio per poter visualizzare i generi musicali e gli artisti con maggiore popolarità. Utilizziamo dei grafici per osservare i risultati in modo piuù evidente e preciso."
   ]
  },
  {
   "cell_type": "markdown",
   "metadata": {},
   "source": [
    "Cominciamo con il creare una nuova colonna chiamata 'Decennio' in cui inseriamo ciascun decennio calcolato con la formula sottostante. Procediamo con il raggruppamento prima per decennio e generi musicali, poi per decennio e dati degli artisti. Di seguito, calcoliamo la popolarità totale per ciascun genere e artista. Infine, identifichiamo il genere e l'artista puìiù famoso per ogni decennio."
   ]
  },
  {
   "cell_type": "code",
   "execution_count": 40,
   "metadata": {},
   "outputs": [
    {
     "name": "stdout",
     "output_type": "stream",
     "text": [
      "Genere più famoso per decennio:\n",
      "     Decennio                                             Genres  Popularity_y\n",
      "1        1960  ['classic girl group', 'classic soul', 'disco'...           567\n",
      "3        1970              ['classic rock', 'glam rock', 'rock']           431\n",
      "4        1980                            ['bolero', 'latin pop']           314\n",
      "8        1990  ['beatlesque', 'britpop', 'madchester', 'perma...           541\n",
      "39       2000                               ['dance pop', 'pop']           619\n",
      "292      2010                                            ['pop']          6686\n",
      "534      2020                                            ['pop']          5426\n",
      "\n",
      "Artista più famoso per decennio:\n",
      "     Decennio          Name  Popularity_y\n",
      "1        1960  The Supremes           567\n",
      "3        1970         Queen           431\n",
      "5        1980   Luis Miguel           314\n",
      "16       1990         Oasis           541\n",
      "41       2000        Juanes           528\n",
      "385      2010  XXXTENTACION           842\n",
      "424      2020     Bad Bunny           888\n"
     ]
    }
   ],
   "source": [
    "# Creo una nuova colonna per il decennio\n",
    "merged_dataset['Decennio'] = (merged_dataset['Release Date'].dt.year // 10) * 10\n",
    "\n",
    "# Raggruppo per decennio e genere. Calcolo poi la popolarità totale per ciascun genere\n",
    "genere_decennio_popularity = merged_dataset.groupby(['Decennio', 'Genres'])['Popularity_y'].sum().reset_index()\n",
    "\n",
    "# Raggruppo per decennio e artista. Calcolo poi la popolarità totale per ciascun artista\n",
    "artista_decennio_popularity = merged_dataset.groupby(['Decennio', 'Name'])['Popularity_y'].sum().reset_index()\n",
    "\n",
    "# Identifico il genere più famoso per decennio\n",
    "most_famous_genre_per_decade = genere_decennio_popularity.loc[genere_decennio_popularity.groupby('Decennio')['Popularity_y'].idxmax()]\n",
    "\n",
    "# Identifico l'artista più famoso per decennio\n",
    "most_famous_artist_per_decade = artista_decennio_popularity.loc[artista_decennio_popularity.groupby('Decennio')['Popularity_y'].idxmax()]\n",
    "\n",
    "print(\"Genere più famoso per decennio:\")\n",
    "print(most_famous_genre_per_decade[['Decennio', 'Genres', 'Popularity_y']])\n",
    "print(\"\\nArtista più famoso per decennio:\")\n",
    "print(most_famous_artist_per_decade[['Decennio', 'Name', 'Popularity_y']])\n"
   ]
  },
  {
   "cell_type": "markdown",
   "metadata": {},
   "source": [
    "Analizziamo nel dettaglio le operazioni eseguite precedentemente. Inizialmente abbiamo raggruppato il dataframe (usando il merged_dataset) per Decennio e Genres/Name, rispettivamente generi musicali per la prima operazione e nome dell'artista per la seconda. Abbiamo utilizzato 'Popularity_y' per poter associare i generi e gli artisti ad un determinato decennio, calcolato utilizzando la colonna 'Release Year', ossia l'anno estratto dalla colonna 'Release Date' presente originariamente nel file 'Top_Songs_US.csv'. "
   ]
  },
  {
   "cell_type": "markdown",
   "metadata": {},
   "source": [
    "Successivamente, per quanto riguarda per esempio l'operazione dedicata all'artista più famoso per decennio, i punteggi della 'Popularity_y' al'interno di ciascun gruppo (combinazione decennio-artista) vengono sommati tramite la funzione 'sum'. Questo passaggio calcola il punteggio totale di popolarità per ciascun artista all'interno di un decennio specifico, considerando i punteggi di popolarità di tutte le canzoni associate a quell'artista in quel particolare decennio. "
   ]
  },
  {
   "cell_type": "markdown",
   "metadata": {},
   "source": [
    "La funzione 'reset_index()'' viene utilizzata per reimpostare l'indice del dataframe risultante. Questa operazione non è strettamente necessaria per la funzionalità, ma può rendere il dataframe più leggibile, specialmente se si prevede di utilizzare l'indice successivamente."
   ]
  },
  {
   "cell_type": "markdown",
   "metadata": {},
   "source": [
    "Infine, l'operazione 'groupby' viene applicata nuovamente nell'operazione di identificazione dell'artista o genere più famoso, raggruppando il dataframe per 'Decennio' e identificando l'indice corrispondente al massimo valore di 'Popularity_y' all'interno di ogni decennio. Il metodo 'loc' viene quindi utilizzato per selezionare le righe corrispondenti a questi valori massimi, identificando efficacemente l'artista più famoso per ogni decennio in base ai punteggi di popolarità sommati. La medesima funzione è stata applicata per il genere più popolare di ciascun decennio."
   ]
  },
  {
   "cell_type": "markdown",
   "metadata": {},
   "source": [
    "Utilizziamo dei grafici"
   ]
  },
  {
   "cell_type": "code",
   "execution_count": 75,
   "metadata": {},
   "outputs": [
    {
     "data": {
      "image/png": "[encoded data removed]",
      "text/plain": [
       "<Figure size 1200x600 with 1 Axes>"
      ]
     },
     "metadata": {},
     "output_type": "display_data"
    }
   ],
   "source": [
    "# Plot del genere più famoso per decennio\n",
    "plt.figure(figsize=(12, 6))\n",
    "for Decennio, group in most_famous_genre_per_decade.groupby('Decennio'):\n",
    "    plt.bar(str(Decennio), group['Popularity_y'].iloc[0], label=group['Genres'].iloc[0])\n",
    "\n",
    "plt.title('Genere musicale più famoso per decennio')\n",
    "plt.xlabel('Decennio')\n",
    "plt.ylabel('Popolarità totale')\n",
    "plt.legend(title='Genere')\n",
    "plt.grid(True)\n",
    "plt.show()"
   ]
  },
  {
   "cell_type": "code",
   "execution_count": 71,
   "metadata": {},
   "outputs": [
    {
     "data": {
      "image/png": "[encoded data removed]",
      "text/plain": [
       "<Figure size 1200x600 with 1 Axes>"
      ]
     },
     "metadata": {},
     "output_type": "display_data"
    }
   ],
   "source": [
    "# Plot dell'artista più famoso per decennio\n",
    "plt.figure(figsize=(12, 6))\n",
    "for Decennio, group in most_famous_artist_per_decade.groupby('Decennio'):\n",
    "    plt.bar(str(Decennio), group['Popularity_y'].iloc[0], label=group['Name'].iloc[0])\n",
    "\n",
    "plt.title('Artista più famoso per decennio')\n",
    "plt.xlabel('Decennio')\n",
    "plt.ylabel('Popolarità totale')\n",
    "plt.legend(title='Artista')\n",
    "plt.grid(True)\n",
    "plt.show()\n"
   ]
  },
  {
   "cell_type": "markdown",
   "metadata": {},
   "source": [
    "Dall'osservazione dei grafici possiamo notare delle contraddizioni in alcuni decenni. Infatti, notiamo che, nell'ultimo decennio, l'artista più popolare è Bad Bunny, mentre il genere musicale più famoso è il pop, nonostante non risulti essere lo stesso genere musicale dell'artista più famoso. Bad Bunny ha come generi 'reggaeton', 'trap latino' e 'urbano latino', dunque il 'pop' non figura. Altri esempi sono l'incoerenza tra il genere più popolare del decennio 2000 e l'artista più famoso dello stesso periodo, che risultano essere rispettivamente 'dance pop' e 'pop' e Juanes, i cui generi in realtà sono 'colombian pop', 'latin pop', 'mexican pop' e 'rock en espanol', e l'artista più popolare del decennio 2010 e il genere più famoso dello stesso periodo, che sono rispettivamente XXXTENTACION e 'pop', nonstante questo artista abbia 'emo rap', 'miami hip hop' e 'rap' come generi musicali."
   ]
  },
  {
   "cell_type": "markdown",
   "metadata": {},
   "source": [
    "Da questa analisi possiamo dedurre che non sempre il genere più popolare è associato all'artista più famoso di uno stesso periodo. Diversi possono essere i motivi per cui questo accade. Per esempio, si può pensare ad un'ambiguità di genere. Prendiamo in considerazione il decennio 2020 che vede il pop come genere più popolare e Bad Bunny come l'artista più famoso; possiamo considerare la definizione del pop come ampia e inclusiva, che comprende una varietà di stili musicali. Se la musica di Bad Bunny è popolare tra un pubblico eterogeneo, potrebbe essere classificata come pop in senso generale, nonostante egli non sia etichettato tradizionalmente come artista pop. La sua musica, infatti, può incorporare elementi di vari generi, portando ad associazioni con categorie più ampie come il pop."
   ]
  },
  {
   "cell_type": "markdown",
   "metadata": {},
   "source": [
    "---------------------------------------------------------------------------------"
   ]
  },
  {
   "cell_type": "markdown",
   "metadata": {},
   "source": [
    "Andiamo ad analizzare ora nello specifico quali sono le canzoni più popolari in ciascun decennio per vedere se sono presenti contraddizioni come nel caso precedente. Questa analisi evidenzia la natura complessa della popolarità musicale, sottolineando l'importanza di considerare sia le dinamiche a livello di artista/genere che a livello di canzone per ottenere una comprensione completa delle tendenze musicali attraverso i decenni."
   ]
  },
  {
   "cell_type": "markdown",
   "metadata": {},
   "source": [
    "Per farlo, utilizziamo le stesse operazioni usate precedentemente."
   ]
  },
  {
   "cell_type": "code",
   "execution_count": 73,
   "metadata": {},
   "outputs": [
    {
     "name": "stdout",
     "output_type": "stream",
     "text": [
      "Canzone più popolare per decennio:\n",
      "      Decennio                           Track Name  Popularity_y  \\\n",
      "8         1960                 You Can't Hurry Love            76   \n",
      "12        1970  Don't Stop Me Now - Remastered 2011            76   \n",
      "19        1980              Ahora Te Puedes Marchar            82   \n",
      "44        1990      All I Want for Christmas Is You            99   \n",
      "82        2000                               Yellow            92   \n",
      "1911      2010                                 idfc           152   \n",
      "2056      2020                          PERRO NEGRO            97   \n",
      "\n",
      "       Artist Name  \n",
      "8     The Supremes  \n",
      "12           Queen  \n",
      "19     Luis Miguel  \n",
      "44    Mariah Carey  \n",
      "82        Coldplay  \n",
      "1911     blackbear  \n",
      "2056     Bad Bunny  \n"
     ]
    }
   ],
   "source": [
    "merged_dataset['Decennio'] = (merged_dataset['Release Date'].dt.year // 10) * 10\n",
    "canzone_decennio_popularity = merged_dataset.groupby(['Decennio', 'Artist Name','Track Name'])['Popularity_y'].sum().reset_index()\n",
    "\n",
    "most_popular_song_decennio = canzone_decennio_popularity.loc[canzone_decennio_popularity.groupby('Decennio')['Popularity_y'].idxmax()]\n",
    "\n",
    "print(\"Canzone più popolare per decennio:\")\n",
    "print(most_popular_song_decennio[['Decennio','Track Name','Popularity_y', 'Artist Name']])\n"
   ]
  },
  {
   "cell_type": "markdown",
   "metadata": {},
   "source": [
    "Vediamo i risultati in un grafico"
   ]
  },
  {
   "cell_type": "code",
   "execution_count": 76,
   "metadata": {},
   "outputs": [
    {
     "data": {
      "image/png": "[encoded data removed]",
      "text/plain": [
       "<Figure size 1200x600 with 1 Axes>"
      ]
     },
     "metadata": {},
     "output_type": "display_data"
    }
   ],
   "source": [
    "plt.figure(figsize=(12,6))\n",
    "graph = plt.bar(most_popular_song_decennio['Decennio'], most_popular_song_decennio['Popularity_y'])\n",
    "plt.title('Canzone più popolare per decennio')\n",
    "plt.xlabel('Decennio')\n",
    "plt.ylabel('Popolarità della canzone')\n",
    "plt.xticks(rotation=45)\n",
    "\n",
    "# aggiungiamo delle label su ogni barra del grafico per riportare il nome completo della canzone\n",
    "for bar, song_title in zip(graph, most_popular_song_decennio['Track Name']):\n",
    "    plt.text(bar.get_x() + bar.get_width() / 2, bar.get_height(), song_title, ha='center', va='bottom', rotation=-5) # va = vertical alignment\n",
    "\n",
    "plt.tight_layout()\n",
    "plt.show()"
   ]
  },
  {
   "cell_type": "markdown",
   "metadata": {},
   "source": [
    "Nel dettaglio, notiamo che delle discrepanze si celano nei decenni del 1990, del 2000 e del 2010. La canzone nominata 'All I Want for Christmas Is You' fu rilasciata nel 1994 dall'artista Mariah Carey, e non dal gruppo Oasis. Lo stesso vale per le canzoni 'Yellow' e 'idfc' che sono state rilasciate rispettivamente nel 2000 e nel 2015 dal gruppo Coldplay e dall'artista blackbear. Per i restanti valori, osserviamo una corrispondenza tra l'artista e il nome della canzone più popolare."
   ]
  },
  {
   "cell_type": "markdown",
   "metadata": {},
   "source": [
    "In questa analisi, abbiamo osservato un fenomeno interessante in cui, nei casi citati precedentemente, gli artisti associati alle canzoni più popolari differivano da quelli identificati come i più popolari nelle operazioni precedenti. Diversi fattori potrebbero contribuire a questa disparità. Un aspetto chiave è che la popolarità di una canzone non dipende solo dalla popolarità complessiva dell'artista. Le dinamiche della popolarità musicale sono complesse e le singole canzoni potrebbero ottenere un ampio plauso per vari motivi come melodie uniche, testi, impatto culturale o collaborazioni."
   ]
  },
  {
   "cell_type": "markdown",
   "metadata": {},
   "source": [
    "È importante riconoscere che mentre la popolarità complessiva di un artista comprende il suo intero lavoro, la popolarità delle singole canzoni è influenzata da caratteristiche specifiche che risuonano con un determinato pubblico durante certi periodi di tempo. Pertanto, le canzoni che hanno qualità uniche possono emergere in un dato decennio, anche se gli artisti coinvolti non sono sempre i più popolari in tutti i parametri.\n",
    "Inoltre, i cambiamenti nelle tendenze musicali, nelle preferenze degli ascoltatori e nei fattori esterni come i cambiamenti culturali possono contribuire alla variazione delle canzoni più popolari rispetto alla popolarità complessiva dell'artista."
   ]
  },
  {
   "cell_type": "markdown",
   "metadata": {},
   "source": [
    "Per quanto riguarda gli anni 90, l'inaspettato dominio della canzone dell'artista Mariah Carey sottolinea il fascino unico e senza tempo della musica a tema natalizio che può trascendere le tipiche associazioni di genere o artisti [1]. Allo stesso modo, la prevalenza della canzone del gruppo Coldplay negli anni 2000 evidenzia l'influenza globale di alcune tracce che risuonano universalmente [2][3], indipendentemente dalla popolarità generale dell'artista. Analogamente, il dominio della canzone dell'artista blackbear negli anno 2010 sottolinea il potenziale per le singole tracce di connettersi con un pubblico specifico in potenti modi[4]. "
   ]
  },
  {
   "cell_type": "markdown",
   "metadata": {},
   "source": [
    "-----------------------------------------------------------------------------------"
   ]
  },
  {
   "cell_type": "markdown",
   "metadata": {},
   "source": [
    "Come ultima analisi, concentriamoci su quali fattori possono influenzare maggiormente la popolarità degli artisti. Per popolarità intendiamo sia la popolarità in sè sia il numero di followers. "
   ]
  },
  {
   "cell_type": "code",
   "execution_count": 77,
   "metadata": {},
   "outputs": [],
   "source": [
    "encoded_dataframe = pd.get_dummies(artisti_no_nan[['Country', 'Genres']])\n",
    "numerical_features = pd.concat([encoded_dataframe, artisti_no_nan[['Age', 'Popularity']]], axis=1)"
   ]
  },
  {
   "cell_type": "code",
   "execution_count": 78,
   "metadata": {},
   "outputs": [],
   "source": [
    "correlation_matrix = numerical_features.corr()"
   ]
  },
  {
   "cell_type": "markdown",
   "metadata": {},
   "source": [
    "Utilizziamo un grafico heat map per osservare i risultati delle precedenti operazioni"
   ]
  },
  {
   "cell_type": "code",
   "execution_count": 80,
   "metadata": {},
   "outputs": [
    {
     "ename": "KeyboardInterrupt",
     "evalue": "",
     "output_type": "error",
     "traceback": [
      "\u001b[1;31m---------------------------------------------------------------------------\u001b[0m",
      "\u001b[1;31mKeyboardInterrupt\u001b[0m                         Traceback (most recent call last)",
      "Cell \u001b[1;32mIn[80], line 2\u001b[0m\n\u001b[0;32m      1\u001b[0m plt\u001b[38;5;241m.\u001b[39mfigure(figsize\u001b[38;5;241m=\u001b[39m(\u001b[38;5;241m12\u001b[39m,\u001b[38;5;241m10\u001b[39m))\n\u001b[1;32m----> 2\u001b[0m \u001b[43msns\u001b[49m\u001b[38;5;241;43m.\u001b[39;49m\u001b[43mheatmap\u001b[49m\u001b[43m(\u001b[49m\u001b[43mcorrelation_matrix\u001b[49m\u001b[43m,\u001b[49m\u001b[43m \u001b[49m\u001b[43mannot\u001b[49m\u001b[38;5;241;43m=\u001b[39;49m\u001b[38;5;28;43;01mTrue\u001b[39;49;00m\u001b[43m,\u001b[49m\u001b[43m \u001b[49m\u001b[43mcmap\u001b[49m\u001b[38;5;241;43m=\u001b[39;49m\u001b[38;5;124;43m'\u001b[39;49m\u001b[38;5;124;43mcoolwarm\u001b[39;49m\u001b[38;5;124;43m'\u001b[39;49m\u001b[43m,\u001b[49m\u001b[43m \u001b[49m\u001b[43mfmt\u001b[49m\u001b[38;5;241;43m=\u001b[39;49m\u001b[38;5;124;43m'\u001b[39;49m\u001b[38;5;124;43m.2f\u001b[39;49m\u001b[38;5;124;43m'\u001b[39;49m\u001b[43m)\u001b[49m\n",
      "File \u001b[1;32mc:\\Users\\User\\anaconda3\\Lib\\site-packages\\seaborn\\matrix.py:459\u001b[0m, in \u001b[0;36mheatmap\u001b[1;34m(data, vmin, vmax, cmap, center, robust, annot, fmt, annot_kws, linewidths, linecolor, cbar, cbar_kws, cbar_ax, square, xticklabels, yticklabels, mask, ax, **kwargs)\u001b[0m\n\u001b[0;32m    457\u001b[0m \u001b[38;5;28;01mif\u001b[39;00m square:\n\u001b[0;32m    458\u001b[0m     ax\u001b[38;5;241m.\u001b[39mset_aspect(\u001b[38;5;124m\"\u001b[39m\u001b[38;5;124mequal\u001b[39m\u001b[38;5;124m\"\u001b[39m)\n\u001b[1;32m--> 459\u001b[0m \u001b[43mplotter\u001b[49m\u001b[38;5;241;43m.\u001b[39;49m\u001b[43mplot\u001b[49m\u001b[43m(\u001b[49m\u001b[43max\u001b[49m\u001b[43m,\u001b[49m\u001b[43m \u001b[49m\u001b[43mcbar_ax\u001b[49m\u001b[43m,\u001b[49m\u001b[43m \u001b[49m\u001b[43mkwargs\u001b[49m\u001b[43m)\u001b[49m\n\u001b[0;32m    460\u001b[0m \u001b[38;5;28;01mreturn\u001b[39;00m ax\n",
      "File \u001b[1;32mc:\\Users\\User\\anaconda3\\Lib\\site-packages\\seaborn\\matrix.py:352\u001b[0m, in \u001b[0;36m_HeatMapper.plot\u001b[1;34m(self, ax, cax, kws)\u001b[0m\n\u001b[0;32m    350\u001b[0m \u001b[38;5;66;03m# Annotate the cells with the formatted values\u001b[39;00m\n\u001b[0;32m    351\u001b[0m \u001b[38;5;28;01mif\u001b[39;00m \u001b[38;5;28mself\u001b[39m\u001b[38;5;241m.\u001b[39mannot:\n\u001b[1;32m--> 352\u001b[0m     \u001b[38;5;28;43mself\u001b[39;49m\u001b[38;5;241;43m.\u001b[39;49m\u001b[43m_annotate_heatmap\u001b[49m\u001b[43m(\u001b[49m\u001b[43max\u001b[49m\u001b[43m,\u001b[49m\u001b[43m \u001b[49m\u001b[43mmesh\u001b[49m\u001b[43m)\u001b[49m\n",
      "File \u001b[1;32mc:\\Users\\User\\anaconda3\\Lib\\site-packages\\seaborn\\matrix.py:258\u001b[0m, in \u001b[0;36m_HeatMapper._annotate_heatmap\u001b[1;34m(self, ax, mesh)\u001b[0m\n\u001b[0;32m    254\u001b[0m \u001b[38;5;28;01mfor\u001b[39;00m x, y, m, color, val \u001b[38;5;129;01min\u001b[39;00m \u001b[38;5;28mzip\u001b[39m(xpos\u001b[38;5;241m.\u001b[39mflat, ypos\u001b[38;5;241m.\u001b[39mflat,\n\u001b[0;32m    255\u001b[0m                                mesh\u001b[38;5;241m.\u001b[39mget_array(), mesh\u001b[38;5;241m.\u001b[39mget_facecolors(),\n\u001b[0;32m    256\u001b[0m                                \u001b[38;5;28mself\u001b[39m\u001b[38;5;241m.\u001b[39mannot_data\u001b[38;5;241m.\u001b[39mflat):\n\u001b[0;32m    257\u001b[0m     \u001b[38;5;28;01mif\u001b[39;00m m \u001b[38;5;129;01mis\u001b[39;00m \u001b[38;5;129;01mnot\u001b[39;00m np\u001b[38;5;241m.\u001b[39mma\u001b[38;5;241m.\u001b[39mmasked:\n\u001b[1;32m--> 258\u001b[0m         lum \u001b[38;5;241m=\u001b[39m \u001b[43mrelative_luminance\u001b[49m\u001b[43m(\u001b[49m\u001b[43mcolor\u001b[49m\u001b[43m)\u001b[49m\n\u001b[0;32m    259\u001b[0m         text_color \u001b[38;5;241m=\u001b[39m \u001b[38;5;124m\"\u001b[39m\u001b[38;5;124m.15\u001b[39m\u001b[38;5;124m\"\u001b[39m \u001b[38;5;28;01mif\u001b[39;00m lum \u001b[38;5;241m>\u001b[39m \u001b[38;5;241m.408\u001b[39m \u001b[38;5;28;01melse\u001b[39;00m \u001b[38;5;124m\"\u001b[39m\u001b[38;5;124mw\u001b[39m\u001b[38;5;124m\"\u001b[39m\n\u001b[0;32m    260\u001b[0m         annotation \u001b[38;5;241m=\u001b[39m (\u001b[38;5;124m\"\u001b[39m\u001b[38;5;124m{\u001b[39m\u001b[38;5;124m:\u001b[39m\u001b[38;5;124m\"\u001b[39m \u001b[38;5;241m+\u001b[39m \u001b[38;5;28mself\u001b[39m\u001b[38;5;241m.\u001b[39mfmt \u001b[38;5;241m+\u001b[39m \u001b[38;5;124m\"\u001b[39m\u001b[38;5;124m}\u001b[39m\u001b[38;5;124m\"\u001b[39m)\u001b[38;5;241m.\u001b[39mformat(val)\n",
      "File \u001b[1;32mc:\\Users\\User\\anaconda3\\Lib\\site-packages\\seaborn\\utils.py:732\u001b[0m, in \u001b[0;36mrelative_luminance\u001b[1;34m(color)\u001b[0m\n\u001b[0;32m    730\u001b[0m rgb \u001b[38;5;241m=\u001b[39m mpl\u001b[38;5;241m.\u001b[39mcolors\u001b[38;5;241m.\u001b[39mcolorConverter\u001b[38;5;241m.\u001b[39mto_rgba_array(color)[:, :\u001b[38;5;241m3\u001b[39m]\n\u001b[0;32m    731\u001b[0m rgb \u001b[38;5;241m=\u001b[39m np\u001b[38;5;241m.\u001b[39mwhere(rgb \u001b[38;5;241m<\u001b[39m\u001b[38;5;241m=\u001b[39m \u001b[38;5;241m.03928\u001b[39m, rgb \u001b[38;5;241m/\u001b[39m \u001b[38;5;241m12.92\u001b[39m, ((rgb \u001b[38;5;241m+\u001b[39m \u001b[38;5;241m.055\u001b[39m) \u001b[38;5;241m/\u001b[39m \u001b[38;5;241m1.055\u001b[39m) \u001b[38;5;241m*\u001b[39m\u001b[38;5;241m*\u001b[39m \u001b[38;5;241m2.4\u001b[39m)\n\u001b[1;32m--> 732\u001b[0m lum \u001b[38;5;241m=\u001b[39m rgb\u001b[38;5;241m.\u001b[39mdot([\u001b[38;5;241m.2126\u001b[39m, \u001b[38;5;241m.7152\u001b[39m, \u001b[38;5;241m.0722\u001b[39m])\n\u001b[0;32m    733\u001b[0m \u001b[38;5;28;01mtry\u001b[39;00m:\n\u001b[0;32m    734\u001b[0m     \u001b[38;5;28;01mreturn\u001b[39;00m lum\u001b[38;5;241m.\u001b[39mitem()\n",
      "\u001b[1;31mKeyboardInterrupt\u001b[0m: "
     ]
    }
   ],
   "source": [
    "plt.figure(figsize=(12,10))\n",
    "sns.heatmap(correlation_matrix, annot=True, cmap='coolwarm', fmt='.2f', xticklabels=5, yticklabels=5)"
   ]
  },
  {
   "cell_type": "markdown",
   "metadata": {},
   "source": [
    "Per prima cosa, analizziamo la correlazione tra il paese di origine e la popolarità in sè, dunque utilizzando la colonna 'Popularity'."
   ]
  },
  {
   "cell_type": "code",
   "execution_count": 44,
   "metadata": {},
   "outputs": [
    {
     "data": {
      "text/plain": [
       "0.10439312908632518"
      ]
     },
     "execution_count": 44,
     "metadata": {},
     "output_type": "execute_result"
    }
   ],
   "source": [
    "correlation_2 = artisti_no_nan['Country'].astype('category').cat.codes.corr(artisti_no_nan['Popularity'])\n",
    "correlation_2"
   ]
  },
  {
   "cell_type": "code",
   "execution_count": 45,
   "metadata": {},
   "outputs": [
    {
     "data": {
      "text/plain": [
       "0.059143973006651654"
      ]
     },
     "execution_count": 45,
     "metadata": {},
     "output_type": "execute_result"
    }
   ],
   "source": [
    "correlation_2 = artisti_no_nan['Country'].astype('category').cat.codes.corr(artisti_no_nan['Followers'])\n",
    "correlation_2"
   ]
  },
  {
   "cell_type": "markdown",
   "metadata": {},
   "source": [
    "Vediamo che nel secondo caso, il coefficiente di popolarità è più basso se utilizziamo il numero dei followers degli artisti. Invece, nel primo caso, utilizzando la popolarità, notiamo un valore più alto. Possiamo dedurre che nel primo caso, sebbene sia comunque un valore basso, il paese di origine possa essere considerato un fattore che influenza la popolarità di un certo artista, di più rispetto al numero dei followers."
   ]
  },
  {
   "cell_type": "markdown",
   "metadata": {},
   "source": [
    "--------------------------------------------------------------------------------------"
   ]
  },
  {
   "cell_type": "code",
   "execution_count": 46,
   "metadata": {},
   "outputs": [
    {
     "name": "stderr",
     "output_type": "stream",
     "text": [
      "C:\\Users\\User\\AppData\\Local\\Temp\\ipykernel_22408\\247056648.py:1: SettingWithCopyWarning: \n",
      "A value is trying to be set on a copy of a slice from a DataFrame.\n",
      "Try using .loc[row_indexer,col_indexer] = value instead\n",
      "\n",
      "See the caveats in the documentation: https://pandas.pydata.org/pandas-docs/stable/user_guide/indexing.html#returning-a-view-versus-a-copy\n",
      "  artisti_no_nan['num_genres'] = artisti_no_nan['Genres'].str.split(',').apply(lambda x: len(x))\n"
     ]
    },
    {
     "data": {
      "text/plain": [
       "0.17075520215140141"
      ]
     },
     "execution_count": 46,
     "metadata": {},
     "output_type": "execute_result"
    }
   ],
   "source": [
    "artisti_no_nan['num_genres'] = artisti_no_nan['Genres'].str.split(',').apply(lambda x: len(x))\n",
    "correlation_3 = artisti_no_nan['num_genres'].corr(artisti_no_nan['Followers'])\n",
    "correlation_3"
   ]
  },
  {
   "cell_type": "code",
   "execution_count": 47,
   "metadata": {},
   "outputs": [
    {
     "name": "stderr",
     "output_type": "stream",
     "text": [
      "C:\\Users\\User\\AppData\\Local\\Temp\\ipykernel_22408\\196208160.py:1: SettingWithCopyWarning: \n",
      "A value is trying to be set on a copy of a slice from a DataFrame.\n",
      "Try using .loc[row_indexer,col_indexer] = value instead\n",
      "\n",
      "See the caveats in the documentation: https://pandas.pydata.org/pandas-docs/stable/user_guide/indexing.html#returning-a-view-versus-a-copy\n",
      "  artisti_no_nan['num_genres'] = artisti_no_nan['Genres'].str.split(',').apply(lambda x: len(x))\n"
     ]
    },
    {
     "data": {
      "text/plain": [
       "0.42262780928038707"
      ]
     },
     "execution_count": 47,
     "metadata": {},
     "output_type": "execute_result"
    }
   ],
   "source": [
    "artisti_no_nan['num_genres'] = artisti_no_nan['Genres'].str.split(',').apply(lambda x: len(x))\n",
    "correlation_3 = artisti_no_nan['num_genres'].corr(artisti_no_nan['Popularity'])\n",
    "correlation_3"
   ]
  },
  {
   "cell_type": "markdown",
   "metadata": {},
   "source": [
    "In questo caso, osserviamo un valore più alto nella seconda operazione, in cui viene considerata la popolarità invece del numero di followers. Notiamo che certi generi musicali possono essere associati con una popolarità elevata. Ciò vuol dire che, artisti di un certo genere musicale possono avere una popolarità più alta rispetto ad artisti che appartengono ad un genere diverso. Questo specifico fattore è quello con valore più elevato, perciò potrebbe trattarsi di quello che influisce maggiormente sulla popolarità di un artista."
   ]
  },
  {
   "cell_type": "markdown",
   "metadata": {},
   "source": [
    "FONTI UTILIZZATE NELLE CONCLUSIONI:\n",
    "[1] - https://www.ksl.com/article/50815039/why-mariah-careys-all-i-want-for-christmas-is-you-became-so-popular--and-stayed-that-way#:~:text=%22All%20I%20Want%20for%20Christmas%20is%20You%22%20works%20as%20a,works%20narratively%2C%22%20Bennett%20says.\n",
    "[2] - https://www.bbc.com/news/av/uk-wales-53410309 Coldplay: How Chris Martin created hit Yellow (article + video).\n",
    "[3] - https://auralcrave.com/en/2022/03/08/the-meaning-of-coldplays-yellow-a-song-of-inexplicable-sensations/\n",
    "[4] - https://oldtimemusic.com/the-meaning-behind-the-song-idfc-by-blackbear/#:~:text=3.-,Why%20did%20Idfc%20become%20so%20popular%3F,relate%20to%20the%20feelings%20expressed. '3. Why did Idfc become so popular?'."
   ]
  }
 ],
 "metadata": {
  "kernelspec": {
   "display_name": "base",
   "language": "python",
   "name": "python3"
  },
  "language_info": {
   "codemirror_mode": {
    "name": "ipython",
    "version": 3
   },
   "file_extension": ".py",
   "mimetype": "text/x-python",
   "name": "python",
   "nbconvert_exporter": "python",
   "pygments_lexer": "ipython3",
   "version": "3.11.4"
  }
 },
 "nbformat": 4,
 "nbformat_minor": 2
}
